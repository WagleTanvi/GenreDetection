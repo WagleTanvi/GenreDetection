{
 "cells": [
  {
   "cell_type": "code",
   "execution_count": 1,
   "id": "6e7a4aa3",
   "metadata": {
    "_cell_guid": "b1076dfc-b9ad-4769-8c92-a6c4dae69d19",
    "_uuid": "8f2839f25d086af736a60e9eeb907d3b93b6e0e5",
    "execution": {
     "iopub.execute_input": "2022-01-18T03:16:20.902378Z",
     "iopub.status.busy": "2022-01-18T03:16:20.901302Z",
     "iopub.status.idle": "2022-01-18T03:16:20.908812Z",
     "shell.execute_reply": "2022-01-18T03:16:20.909327Z",
     "shell.execute_reply.started": "2021-12-16T15:41:11.101956Z"
    },
    "papermill": {
     "duration": 0.026826,
     "end_time": "2022-01-18T03:16:20.909631",
     "exception": false,
     "start_time": "2022-01-18T03:16:20.882805",
     "status": "completed"
    },
    "tags": []
   },
   "outputs": [],
   "source": [
    "import numpy as np # linear algebra\n",
    "import pandas as pd # data processing, CSV file I/O (e.g. pd.read_csv)\n",
    "import matplotlib.pyplot as plt"
   ]
  },
  {
   "cell_type": "code",
   "execution_count": 2,
   "id": "081e8756",
   "metadata": {
    "execution": {
     "iopub.execute_input": "2022-01-18T03:16:20.943664Z",
     "iopub.status.busy": "2022-01-18T03:16:20.943053Z",
     "iopub.status.idle": "2022-01-18T03:16:21.340585Z",
     "shell.execute_reply": "2022-01-18T03:16:21.339973Z",
     "shell.execute_reply.started": "2021-12-11T02:11:34.446119Z"
    },
    "papermill": {
     "duration": 0.416619,
     "end_time": "2022-01-18T03:16:21.340727",
     "exception": false,
     "start_time": "2022-01-18T03:16:20.924108",
     "status": "completed"
    },
    "tags": []
   },
   "outputs": [
    {
     "data": {
      "text/plain": [
       "Index(['filename', 'length', 'chroma_stft_mean', 'chroma_stft_var', 'rms_mean',\n",
       "       'rms_var', 'spectral_centroid_mean', 'spectral_centroid_var',\n",
       "       'spectral_bandwidth_mean', 'spectral_bandwidth_var', 'rolloff_mean',\n",
       "       'rolloff_var', 'zero_crossing_rate_mean', 'zero_crossing_rate_var',\n",
       "       'harmony_mean', 'harmony_var', 'perceptr_mean', 'perceptr_var', 'tempo',\n",
       "       'mfcc1_mean', 'mfcc1_var', 'mfcc2_mean', 'mfcc2_var', 'mfcc3_mean',\n",
       "       'mfcc3_var', 'mfcc4_mean', 'mfcc4_var', 'mfcc5_mean', 'mfcc5_var',\n",
       "       'mfcc6_mean', 'mfcc6_var', 'mfcc7_mean', 'mfcc7_var', 'mfcc8_mean',\n",
       "       'mfcc8_var', 'mfcc9_mean', 'mfcc9_var', 'mfcc10_mean', 'mfcc10_var',\n",
       "       'mfcc11_mean', 'mfcc11_var', 'mfcc12_mean', 'mfcc12_var', 'mfcc13_mean',\n",
       "       'mfcc13_var', 'mfcc14_mean', 'mfcc14_var', 'mfcc15_mean', 'mfcc15_var',\n",
       "       'mfcc16_mean', 'mfcc16_var', 'mfcc17_mean', 'mfcc17_var', 'mfcc18_mean',\n",
       "       'mfcc18_var', 'mfcc19_mean', 'mfcc19_var', 'mfcc20_mean', 'mfcc20_var',\n",
       "       'label'],\n",
       "      dtype='object')"
      ]
     },
     "execution_count": 2,
     "metadata": {},
     "output_type": "execute_result"
    }
   ],
   "source": [
    "df = pd.read_csv(\"/kaggle/input/gtzan-dataset-music-genre-classification/Data/features_3_sec.csv\")\n",
    "df.iloc[:, 1:59]\n",
    "df.columns"
   ]
  },
  {
   "cell_type": "markdown",
   "id": "cc5e5f3b",
   "metadata": {
    "papermill": {
     "duration": 0.013673,
     "end_time": "2022-01-18T03:16:21.368706",
     "exception": false,
     "start_time": "2022-01-18T03:16:21.355033",
     "status": "completed"
    },
    "tags": []
   },
   "source": [
    "## PRE-PROCESS THE DATA"
   ]
  },
  {
   "cell_type": "code",
   "execution_count": 3,
   "id": "3955c347",
   "metadata": {
    "execution": {
     "iopub.execute_input": "2022-01-18T03:16:21.399867Z",
     "iopub.status.busy": "2022-01-18T03:16:21.399214Z",
     "iopub.status.idle": "2022-01-18T03:16:22.269242Z",
     "shell.execute_reply": "2022-01-18T03:16:22.268575Z",
     "shell.execute_reply.started": "2021-12-06T17:41:04.537417Z"
    },
    "papermill": {
     "duration": 0.886934,
     "end_time": "2022-01-18T03:16:22.269384",
     "exception": false,
     "start_time": "2022-01-18T03:16:21.382450",
     "status": "completed"
    },
    "tags": []
   },
   "outputs": [],
   "source": [
    "from sklearn import preprocessing\n",
    "\n",
    "le = preprocessing.LabelEncoder()\n",
    "le.fit(df['label'])\n",
    "y_true = df['label']\n",
    "y = le.transform(df[\"label\"])\n",
    "X = df.iloc[:, 1:59] \n",
    "\n",
    "scaled = preprocessing.MinMaxScaler().fit_transform(X)\n",
    "X = pd.DataFrame(scaled, columns = X.columns)"
   ]
  },
  {
   "cell_type": "markdown",
   "id": "2dd20f34",
   "metadata": {
    "papermill": {
     "duration": 0.013857,
     "end_time": "2022-01-18T03:16:22.297310",
     "exception": false,
     "start_time": "2022-01-18T03:16:22.283453",
     "status": "completed"
    },
    "tags": []
   },
   "source": [
    "## Split into Training and Testing "
   ]
  },
  {
   "cell_type": "code",
   "execution_count": 4,
   "id": "1db83e94",
   "metadata": {
    "execution": {
     "iopub.execute_input": "2022-01-18T03:16:22.332569Z",
     "iopub.status.busy": "2022-01-18T03:16:22.331833Z",
     "iopub.status.idle": "2022-01-18T03:16:22.396128Z",
     "shell.execute_reply": "2022-01-18T03:16:22.396900Z",
     "shell.execute_reply.started": "2021-12-06T17:41:09.997277Z"
    },
    "papermill": {
     "duration": 0.084513,
     "end_time": "2022-01-18T03:16:22.397179",
     "exception": false,
     "start_time": "2022-01-18T03:16:22.312666",
     "status": "completed"
    },
    "tags": []
   },
   "outputs": [
    {
     "name": "stdout",
     "output_type": "stream",
     "text": [
      "The size of training data is: 434536\n",
      "The size of testing data is: 144884\n"
     ]
    }
   ],
   "source": [
    "from sklearn.model_selection import train_test_split\n",
    "train_x, test_x, train_y, test_y = train_test_split(X, y)\n",
    "print(f\"The size of training data is: {train_x.size}\")\n",
    "print(f\"The size of testing data is: {test_x.size}\")"
   ]
  },
  {
   "cell_type": "markdown",
   "id": "2772413f",
   "metadata": {
    "papermill": {
     "duration": 0.014528,
     "end_time": "2022-01-18T03:16:22.432234",
     "exception": false,
     "start_time": "2022-01-18T03:16:22.417706",
     "status": "completed"
    },
    "tags": []
   },
   "source": [
    "# Split for cross validation "
   ]
  },
  {
   "cell_type": "code",
   "execution_count": 5,
   "id": "06823b2e",
   "metadata": {
    "execution": {
     "iopub.execute_input": "2022-01-18T03:16:22.470325Z",
     "iopub.status.busy": "2022-01-18T03:16:22.469691Z",
     "iopub.status.idle": "2022-01-18T03:16:22.472711Z",
     "shell.execute_reply": "2022-01-18T03:16:22.472224Z",
     "shell.execute_reply.started": "2021-12-06T17:41:14.077853Z"
    },
    "papermill": {
     "duration": 0.023037,
     "end_time": "2022-01-18T03:16:22.472853",
     "exception": false,
     "start_time": "2022-01-18T03:16:22.449816",
     "status": "completed"
    },
    "tags": []
   },
   "outputs": [],
   "source": [
    "from sklearn.model_selection import KFold\n",
    "kfold = KFold(n_splits=5, shuffle=True, random_state=10)"
   ]
  },
  {
   "cell_type": "markdown",
   "id": "52492858",
   "metadata": {
    "papermill": {
     "duration": 0.014454,
     "end_time": "2022-01-18T03:16:22.501727",
     "exception": false,
     "start_time": "2022-01-18T03:16:22.487273",
     "status": "completed"
    },
    "tags": []
   },
   "source": [
    "# Try Supervised Machine Learning Algorithms"
   ]
  },
  {
   "cell_type": "code",
   "execution_count": 6,
   "id": "0585799d",
   "metadata": {
    "execution": {
     "iopub.execute_input": "2022-01-18T03:16:22.533636Z",
     "iopub.status.busy": "2022-01-18T03:16:22.533003Z",
     "iopub.status.idle": "2022-01-18T03:16:22.537279Z",
     "shell.execute_reply": "2022-01-18T03:16:22.537770Z",
     "shell.execute_reply.started": "2021-12-06T17:41:17.870524Z"
    },
    "papermill": {
     "duration": 0.021983,
     "end_time": "2022-01-18T03:16:22.537939",
     "exception": false,
     "start_time": "2022-01-18T03:16:22.515956",
     "status": "completed"
    },
    "tags": []
   },
   "outputs": [],
   "source": [
    "from sklearn.model_selection import GridSearchCV\n",
    "\n",
    "def hyperparameter_search(parameters, classifier, train_x, train_y):\n",
    "    grid = GridSearchCV(estimator=classifier, param_grid=parameters, cv=kfold, scoring='accuracy')\n",
    "    grid.fit(train_x, train_y)\n",
    "    return grid"
   ]
  },
  {
   "cell_type": "code",
   "execution_count": 7,
   "id": "b857c583",
   "metadata": {
    "execution": {
     "iopub.execute_input": "2022-01-18T03:16:22.573155Z",
     "iopub.status.busy": "2022-01-18T03:16:22.572422Z",
     "iopub.status.idle": "2022-01-18T03:16:43.587757Z",
     "shell.execute_reply": "2022-01-18T03:16:43.588233Z",
     "shell.execute_reply.started": "2021-12-06T17:57:02.798638Z"
    },
    "papermill": {
     "duration": 21.035549,
     "end_time": "2022-01-18T03:16:43.588410",
     "exception": false,
     "start_time": "2022-01-18T03:16:22.552861",
     "status": "completed"
    },
    "tags": []
   },
   "outputs": [
    {
     "name": "stdout",
     "output_type": "stream",
     "text": [
      "0.8813387830427228\n",
      "KNeighborsClassifier(n_neighbors=4)\n",
      "{'n_neighbors': 4}\n"
     ]
    }
   ],
   "source": [
    "from sklearn.model_selection import GridSearchCV\n",
    "from sklearn.neighbors import KNeighborsClassifier\n",
    "\n",
    "hp = [{'n_neighbors': [4, 6, 8, 10]}]\n",
    "\n",
    "knn = hyperparameter_search(hp, KNeighborsClassifier(), train_x, train_y)\n",
    "print(knn.best_score_)\n",
    "print(knn.best_estimator_)\n",
    "print(knn.best_params_)"
   ]
  },
  {
   "cell_type": "code",
   "execution_count": 8,
   "id": "d1f006ac",
   "metadata": {
    "execution": {
     "iopub.execute_input": "2022-01-18T03:16:43.623583Z",
     "iopub.status.busy": "2022-01-18T03:16:43.622930Z",
     "iopub.status.idle": "2022-01-18T03:16:56.014024Z",
     "shell.execute_reply": "2022-01-18T03:16:56.013447Z",
     "shell.execute_reply.started": "2021-12-06T17:43:03.61742Z"
    },
    "papermill": {
     "duration": 12.411087,
     "end_time": "2022-01-18T03:16:56.014164",
     "exception": false,
     "start_time": "2022-01-18T03:16:43.603077",
     "status": "completed"
    },
    "tags": []
   },
   "outputs": [
    {
     "name": "stdout",
     "output_type": "stream",
     "text": [
      "0.6257338448151015\n",
      "DecisionTreeClassifier()\n",
      "{'max_depth': None}\n"
     ]
    }
   ],
   "source": [
    "from sklearn import tree\n",
    "from sklearn.tree import DecisionTreeClassifier\n",
    "\n",
    "hp = [{'max_depth': [None, 5, 10, 15, 20]}]\n",
    "dt = hyperparameter_search(hp, DecisionTreeClassifier(), train_x, train_y)\n",
    "\n",
    "print(dt.best_score_)\n",
    "print(dt.best_estimator_)\n",
    "print(dt.best_params_)"
   ]
  },
  {
   "cell_type": "code",
   "execution_count": 9,
   "id": "f8b135a4",
   "metadata": {
    "execution": {
     "iopub.execute_input": "2022-01-18T03:16:56.049653Z",
     "iopub.status.busy": "2022-01-18T03:16:56.048997Z",
     "iopub.status.idle": "2022-01-18T03:21:42.547526Z",
     "shell.execute_reply": "2022-01-18T03:21:42.548272Z",
     "shell.execute_reply.started": "2021-12-06T17:48:05.020123Z"
    },
    "papermill": {
     "duration": 286.519438,
     "end_time": "2022-01-18T03:21:42.548544",
     "exception": false,
     "start_time": "2022-01-18T03:16:56.029106",
     "status": "completed"
    },
    "tags": []
   },
   "outputs": [
    {
     "name": "stdout",
     "output_type": "stream",
     "text": [
      "0.8586490682261696\n",
      "RandomForestClassifier(n_estimators=1000)\n",
      "{'max_depth': None, 'n_estimators': 1000}\n"
     ]
    }
   ],
   "source": [
    "from sklearn.ensemble import RandomForestClassifier\n",
    "\n",
    "hp = [{'n_estimators': [10,100, 1000], 'max_depth': [None]}]\n",
    "rfc = hyperparameter_search(hp, RandomForestClassifier(), train_x, train_y)\n",
    "\n",
    "print(rfc.best_score_)\n",
    "print(rfc.best_estimator_)\n",
    "print(rfc.best_params_)"
   ]
  },
  {
   "cell_type": "code",
   "execution_count": 10,
   "id": "3586defc",
   "metadata": {
    "execution": {
     "iopub.execute_input": "2022-01-18T03:21:42.586905Z",
     "iopub.status.busy": "2022-01-18T03:21:42.585960Z",
     "iopub.status.idle": "2022-01-18T03:23:03.455779Z",
     "shell.execute_reply": "2022-01-18T03:23:03.456519Z",
     "shell.execute_reply.started": "2021-12-06T17:52:54.438597Z"
    },
    "papermill": {
     "duration": 80.889137,
     "end_time": "2022-01-18T03:23:03.456764",
     "exception": false,
     "start_time": "2022-01-18T03:21:42.567627",
     "status": "completed"
    },
    "tags": []
   },
   "outputs": [
    {
     "name": "stdout",
     "output_type": "stream",
     "text": [
      "0.7863046214165028\n",
      "SVC(decision_function_shape='ovo', kernel='poly')\n",
      "{'decision_function_shape': 'ovo', 'kernel': 'poly'}\n"
     ]
    }
   ],
   "source": [
    "from sklearn.svm import SVC\n",
    "\n",
    "hp = [{'kernel' : ['linear', 'poly', 'rbf', 'sigmoid'], 'decision_function_shape': ['ovo']}]\n",
    "svc = hyperparameter_search(hp, SVC(), train_x, train_y)\n",
    "\n",
    "print(svc.best_score_)\n",
    "print(svc.best_estimator_)\n",
    "print(svc.best_params_)"
   ]
  },
  {
   "cell_type": "code",
   "execution_count": 11,
   "id": "a03b9784",
   "metadata": {
    "execution": {
     "iopub.execute_input": "2022-01-18T03:23:03.495595Z",
     "iopub.status.busy": "2022-01-18T03:23:03.494959Z",
     "iopub.status.idle": "2022-01-18T03:23:07.870645Z",
     "shell.execute_reply": "2022-01-18T03:23:07.871318Z",
     "shell.execute_reply.started": "2021-12-06T17:56:52.85817Z"
    },
    "papermill": {
     "duration": 4.398542,
     "end_time": "2022-01-18T03:23:07.871588",
     "exception": false,
     "start_time": "2022-01-18T03:23:03.473046",
     "status": "completed"
    },
    "tags": []
   },
   "outputs": [
    {
     "name": "stdout",
     "output_type": "stream",
     "text": [
      "0.6651071341731158\n",
      "LogisticRegression(solver='liblinear')\n",
      "{'solver': 'liblinear'}\n"
     ]
    }
   ],
   "source": [
    "from sklearn.linear_model import LogisticRegression\n",
    "\n",
    "hp = [{'solver' : ['liblinear']}]\n",
    "logreg = hyperparameter_search(hp, LogisticRegression(), train_x, train_y)\n",
    "\n",
    "print(logreg.best_score_)\n",
    "print(logreg.best_estimator_)\n",
    "print(logreg.best_params_)"
   ]
  },
  {
   "cell_type": "code",
   "execution_count": 12,
   "id": "ce510249",
   "metadata": {
    "execution": {
     "iopub.execute_input": "2022-01-18T03:23:07.909477Z",
     "iopub.status.busy": "2022-01-18T03:23:07.908815Z",
     "iopub.status.idle": "2022-01-18T03:33:18.285684Z",
     "shell.execute_reply": "2022-01-18T03:33:18.286534Z",
     "shell.execute_reply.started": "2021-12-06T17:58:25.953929Z"
    },
    "papermill": {
     "duration": 610.398831,
     "end_time": "2022-01-18T03:33:18.286844",
     "exception": false,
     "start_time": "2022-01-18T03:23:07.888013",
     "status": "completed"
    },
    "tags": []
   },
   "outputs": [
    {
     "name": "stderr",
     "output_type": "stream",
     "text": [
      "/opt/conda/lib/python3.7/site-packages/sklearn/neural_network/_multilayer_perceptron.py:585: ConvergenceWarning: Stochastic Optimizer: Maximum iterations (500) reached and the optimization hasn't converged yet.\n",
      "  % self.max_iter, ConvergenceWarning)\n",
      "/opt/conda/lib/python3.7/site-packages/sklearn/neural_network/_multilayer_perceptron.py:585: ConvergenceWarning: Stochastic Optimizer: Maximum iterations (500) reached and the optimization hasn't converged yet.\n",
      "  % self.max_iter, ConvergenceWarning)\n",
      "/opt/conda/lib/python3.7/site-packages/sklearn/neural_network/_multilayer_perceptron.py:585: ConvergenceWarning: Stochastic Optimizer: Maximum iterations (500) reached and the optimization hasn't converged yet.\n",
      "  % self.max_iter, ConvergenceWarning)\n",
      "/opt/conda/lib/python3.7/site-packages/sklearn/neural_network/_multilayer_perceptron.py:585: ConvergenceWarning: Stochastic Optimizer: Maximum iterations (500) reached and the optimization hasn't converged yet.\n",
      "  % self.max_iter, ConvergenceWarning)\n",
      "/opt/conda/lib/python3.7/site-packages/sklearn/neural_network/_multilayer_perceptron.py:585: ConvergenceWarning: Stochastic Optimizer: Maximum iterations (500) reached and the optimization hasn't converged yet.\n",
      "  % self.max_iter, ConvergenceWarning)\n",
      "/opt/conda/lib/python3.7/site-packages/sklearn/neural_network/_multilayer_perceptron.py:585: ConvergenceWarning: Stochastic Optimizer: Maximum iterations (500) reached and the optimization hasn't converged yet.\n",
      "  % self.max_iter, ConvergenceWarning)\n",
      "/opt/conda/lib/python3.7/site-packages/sklearn/neural_network/_multilayer_perceptron.py:585: ConvergenceWarning: Stochastic Optimizer: Maximum iterations (500) reached and the optimization hasn't converged yet.\n",
      "  % self.max_iter, ConvergenceWarning)\n",
      "/opt/conda/lib/python3.7/site-packages/sklearn/neural_network/_multilayer_perceptron.py:585: ConvergenceWarning: Stochastic Optimizer: Maximum iterations (500) reached and the optimization hasn't converged yet.\n",
      "  % self.max_iter, ConvergenceWarning)\n",
      "/opt/conda/lib/python3.7/site-packages/sklearn/neural_network/_multilayer_perceptron.py:585: ConvergenceWarning: Stochastic Optimizer: Maximum iterations (500) reached and the optimization hasn't converged yet.\n",
      "  % self.max_iter, ConvergenceWarning)\n",
      "/opt/conda/lib/python3.7/site-packages/sklearn/neural_network/_multilayer_perceptron.py:585: ConvergenceWarning: Stochastic Optimizer: Maximum iterations (500) reached and the optimization hasn't converged yet.\n",
      "  % self.max_iter, ConvergenceWarning)\n",
      "/opt/conda/lib/python3.7/site-packages/sklearn/neural_network/_multilayer_perceptron.py:585: ConvergenceWarning: Stochastic Optimizer: Maximum iterations (500) reached and the optimization hasn't converged yet.\n",
      "  % self.max_iter, ConvergenceWarning)\n"
     ]
    },
    {
     "name": "stdout",
     "output_type": "stream",
     "text": [
      "0.7794934941051043\n",
      "MLPClassifier(alpha=0.001, hidden_layer_sizes=(100, 10), max_iter=500,\n",
      "              random_state=1)\n",
      "{'alpha': 0.001, 'hidden_layer_sizes': (100, 10), 'max_iter': 500, 'random_state': 1}\n"
     ]
    }
   ],
   "source": [
    "from sklearn.neural_network import MLPClassifier\n",
    "\n",
    "hp = [{'alpha' : [1e-3, 1e-5, 1e-8], 'random_state': [1], 'hidden_layer_sizes': [(100,10)], 'max_iter': [500]}]\n",
    "nn = hyperparameter_search(hp, MLPClassifier(), train_x, train_y)\n",
    "\n",
    "print(nn.best_score_)\n",
    "print(nn.best_estimator_)\n",
    "print(nn.best_params_)"
   ]
  },
  {
   "cell_type": "markdown",
   "id": "a82ca172",
   "metadata": {
    "papermill": {
     "duration": 0.035097,
     "end_time": "2022-01-18T03:33:18.357324",
     "exception": false,
     "start_time": "2022-01-18T03:33:18.322227",
     "status": "completed"
    },
    "tags": []
   },
   "source": [
    "## ANALYSIS"
   ]
  },
  {
   "cell_type": "code",
   "execution_count": 13,
   "id": "ca52e7b1",
   "metadata": {
    "execution": {
     "iopub.execute_input": "2022-01-18T03:33:18.402662Z",
     "iopub.status.busy": "2022-01-18T03:33:18.402009Z",
     "iopub.status.idle": "2022-01-18T03:33:20.056750Z",
     "shell.execute_reply": "2022-01-18T03:33:20.057216Z",
     "shell.execute_reply.started": "2021-12-06T18:11:29.166475Z"
    },
    "papermill": {
     "duration": 1.679303,
     "end_time": "2022-01-18T03:33:20.057394",
     "exception": false,
     "start_time": "2022-01-18T03:33:18.378091",
     "status": "completed"
    },
    "tags": []
   },
   "outputs": [
    {
     "data": {
      "image/png": "[encoded data removed]",
      "text/plain": [
       "<Figure size 1152x648 with 2 Axes>"
      ]
     },
     "metadata": {
      "needs_background": "light"
     },
     "output_type": "display_data"
    }
   ],
   "source": [
    "from sklearn.metrics import confusion_matrix\n",
    "import seaborn as sns\n",
    "preds = rfc.predict(test_x)\n",
    "confusion_matr = confusion_matrix(le.inverse_transform(test_y), le.inverse_transform(preds))\n",
    "plt.figure(figsize = (16, 9))\n",
    "sns.heatmap(confusion_matr, cmap=\"Purples\", annot=True, \n",
    "            xticklabels = le.classes_,\n",
    "           yticklabels= le.classes_);"
   ]
  },
  {
   "cell_type": "code",
   "execution_count": 14,
   "id": "44b11f76",
   "metadata": {
    "execution": {
     "iopub.execute_input": "2022-01-18T03:33:20.101153Z",
     "iopub.status.busy": "2022-01-18T03:33:20.100253Z",
     "iopub.status.idle": "2022-01-18T03:36:47.513631Z",
     "shell.execute_reply": "2022-01-18T03:36:47.514107Z",
     "shell.execute_reply.started": "2021-12-05T02:15:21.474626Z"
    },
    "papermill": {
     "duration": 207.436708,
     "end_time": "2022-01-18T03:36:47.514282",
     "exception": false,
     "start_time": "2022-01-18T03:33:20.077574",
     "status": "completed"
    },
    "tags": []
   },
   "outputs": [
    {
     "data": {
      "text/html": [
       "<style type='text/css'>\n",
       ".datatable table.frame { margin-bottom: 0; }\n",
       ".datatable table.frame thead { border-bottom: none; }\n",
       ".datatable table.frame tr.coltypes td {  color: #FFFFFF;  line-height: 6px;  padding: 0 0.5em;}\n",
       ".datatable .bool    { background: #DDDD99; }\n",
       ".datatable .object  { background: #565656; }\n",
       ".datatable .int     { background: #5D9E5D; }\n",
       ".datatable .float   { background: #4040CC; }\n",
       ".datatable .str     { background: #CC4040; }\n",
       ".datatable .time    { background: #40CC40; }\n",
       ".datatable .row_index {  background: var(--jp-border-color3);  border-right: 1px solid var(--jp-border-color0);  color: var(--jp-ui-font-color3);  font-size: 9px;}\n",
       ".datatable .frame tbody td { text-align: left; }\n",
       ".datatable .frame tr.coltypes .row_index {  background: var(--jp-border-color0);}\n",
       ".datatable th:nth-child(2) { padding-left: 12px; }\n",
       ".datatable .hellipsis {  color: var(--jp-cell-editor-border-color);}\n",
       ".datatable .vellipsis {  background: var(--jp-layout-color0);  color: var(--jp-cell-editor-border-color);}\n",
       ".datatable .na {  color: var(--jp-cell-editor-border-color);  font-size: 80%;}\n",
       ".datatable .sp {  opacity: 0.25;}\n",
       ".datatable .footer { font-size: 9px; }\n",
       ".datatable .frame_dimensions {  background: var(--jp-border-color3);  border-top: 1px solid var(--jp-border-color0);  color: var(--jp-ui-font-color3);  display: inline-block;  opacity: 0.6;  padding: 1px 10px 1px 5px;}\n",
       "</style>\n"
      ],
      "text/plain": [
       "<IPython.core.display.HTML object>"
      ]
     },
     "metadata": {},
     "output_type": "display_data"
    },
    {
     "data": {
      "text/html": [
       "\n",
       "    <style>\n",
       "    table.eli5-weights tr:hover {\n",
       "        filter: brightness(85%);\n",
       "    }\n",
       "</style>\n",
       "\n",
       "\n",
       "\n",
       "    \n",
       "\n",
       "    \n",
       "\n",
       "    \n",
       "\n",
       "    \n",
       "\n",
       "    \n",
       "\n",
       "    \n",
       "\n",
       "\n",
       "    \n",
       "\n",
       "    \n",
       "\n",
       "    \n",
       "\n",
       "    \n",
       "\n",
       "    \n",
       "\n",
       "    \n",
       "\n",
       "\n",
       "    \n",
       "\n",
       "    \n",
       "\n",
       "    \n",
       "\n",
       "    \n",
       "\n",
       "    \n",
       "        <table class=\"eli5-weights eli5-feature-importances\" style=\"border-collapse: collapse; border: none; margin-top: 0em; table-layout: auto;\">\n",
       "    <thead>\n",
       "    <tr style=\"border: none;\">\n",
       "        <th style=\"padding: 0 1em 0 0.5em; text-align: right; border: none;\">Weight</th>\n",
       "        <th style=\"padding: 0 0.5em 0 0.5em; text-align: left; border: none;\">Feature</th>\n",
       "    </tr>\n",
       "    </thead>\n",
       "    <tbody>\n",
       "    \n",
       "        <tr style=\"background-color: hsl(120, 100.00%, 80.00%); border: none;\">\n",
       "            <td style=\"padding: 0 1em 0 0.5em; text-align: right; border: none;\">\n",
       "                0.0275\n",
       "                \n",
       "                    &plusmn; 0.0065\n",
       "                \n",
       "            </td>\n",
       "            <td style=\"padding: 0 0.5em 0 0.5em; text-align: left; border: none;\">\n",
       "                perceptr_var\n",
       "            </td>\n",
       "        </tr>\n",
       "    \n",
       "        <tr style=\"background-color: hsl(120, 100.00%, 80.24%); border: none;\">\n",
       "            <td style=\"padding: 0 1em 0 0.5em; text-align: right; border: none;\">\n",
       "                0.0271\n",
       "                \n",
       "                    &plusmn; 0.0047\n",
       "                \n",
       "            </td>\n",
       "            <td style=\"padding: 0 0.5em 0 0.5em; text-align: left; border: none;\">\n",
       "                mfcc4_mean\n",
       "            </td>\n",
       "        </tr>\n",
       "    \n",
       "        <tr style=\"background-color: hsl(120, 100.00%, 83.43%); border: none;\">\n",
       "            <td style=\"padding: 0 1em 0 0.5em; text-align: right; border: none;\">\n",
       "                0.0211\n",
       "                \n",
       "                    &plusmn; 0.0070\n",
       "                \n",
       "            </td>\n",
       "            <td style=\"padding: 0 0.5em 0 0.5em; text-align: left; border: none;\">\n",
       "                chroma_stft_mean\n",
       "            </td>\n",
       "        </tr>\n",
       "    \n",
       "        <tr style=\"background-color: hsl(120, 100.00%, 83.83%); border: none;\">\n",
       "            <td style=\"padding: 0 1em 0 0.5em; text-align: right; border: none;\">\n",
       "                0.0203\n",
       "                \n",
       "                    &plusmn; 0.0034\n",
       "                \n",
       "            </td>\n",
       "            <td style=\"padding: 0 0.5em 0 0.5em; text-align: left; border: none;\">\n",
       "                rms_var\n",
       "            </td>\n",
       "        </tr>\n",
       "    \n",
       "        <tr style=\"background-color: hsl(120, 100.00%, 84.73%); border: none;\">\n",
       "            <td style=\"padding: 0 1em 0 0.5em; text-align: right; border: none;\">\n",
       "                0.0187\n",
       "                \n",
       "                    &plusmn; 0.0040\n",
       "                \n",
       "            </td>\n",
       "            <td style=\"padding: 0 0.5em 0 0.5em; text-align: left; border: none;\">\n",
       "                mfcc9_mean\n",
       "            </td>\n",
       "        </tr>\n",
       "    \n",
       "        <tr style=\"background-color: hsl(120, 100.00%, 86.17%); border: none;\">\n",
       "            <td style=\"padding: 0 1em 0 0.5em; text-align: right; border: none;\">\n",
       "                0.0163\n",
       "                \n",
       "                    &plusmn; 0.0041\n",
       "                \n",
       "            </td>\n",
       "            <td style=\"padding: 0 0.5em 0 0.5em; text-align: left; border: none;\">\n",
       "                mfcc6_mean\n",
       "            </td>\n",
       "        </tr>\n",
       "    \n",
       "        <tr style=\"background-color: hsl(120, 100.00%, 86.51%); border: none;\">\n",
       "            <td style=\"padding: 0 1em 0 0.5em; text-align: right; border: none;\">\n",
       "                0.0157\n",
       "                \n",
       "                    &plusmn; 0.0035\n",
       "                \n",
       "            </td>\n",
       "            <td style=\"padding: 0 0.5em 0 0.5em; text-align: left; border: none;\">\n",
       "                perceptr_mean\n",
       "            </td>\n",
       "        </tr>\n",
       "    \n",
       "        <tr style=\"background-color: hsl(120, 100.00%, 86.95%); border: none;\">\n",
       "            <td style=\"padding: 0 1em 0 0.5em; text-align: right; border: none;\">\n",
       "                0.0150\n",
       "                \n",
       "                    &plusmn; 0.0019\n",
       "                \n",
       "            </td>\n",
       "            <td style=\"padding: 0 0.5em 0 0.5em; text-align: left; border: none;\">\n",
       "                harmony_mean\n",
       "            </td>\n",
       "        </tr>\n",
       "    \n",
       "        <tr style=\"background-color: hsl(120, 100.00%, 88.92%); border: none;\">\n",
       "            <td style=\"padding: 0 1em 0 0.5em; text-align: right; border: none;\">\n",
       "                0.0118\n",
       "                \n",
       "                    &plusmn; 0.0031\n",
       "                \n",
       "            </td>\n",
       "            <td style=\"padding: 0 0.5em 0 0.5em; text-align: left; border: none;\">\n",
       "                harmony_var\n",
       "            </td>\n",
       "        </tr>\n",
       "    \n",
       "        <tr style=\"background-color: hsl(120, 100.00%, 89.34%); border: none;\">\n",
       "            <td style=\"padding: 0 1em 0 0.5em; text-align: right; border: none;\">\n",
       "                0.0112\n",
       "                \n",
       "                    &plusmn; 0.0017\n",
       "                \n",
       "            </td>\n",
       "            <td style=\"padding: 0 0.5em 0 0.5em; text-align: left; border: none;\">\n",
       "                mfcc7_mean\n",
       "            </td>\n",
       "        </tr>\n",
       "    \n",
       "        <tr style=\"background-color: hsl(120, 100.00%, 89.61%); border: none;\">\n",
       "            <td style=\"padding: 0 1em 0 0.5em; text-align: right; border: none;\">\n",
       "                0.0108\n",
       "                \n",
       "                    &plusmn; 0.0035\n",
       "                \n",
       "            </td>\n",
       "            <td style=\"padding: 0 0.5em 0 0.5em; text-align: left; border: none;\">\n",
       "                mfcc8_mean\n",
       "            </td>\n",
       "        </tr>\n",
       "    \n",
       "        <tr style=\"background-color: hsl(120, 100.00%, 90.38%); border: none;\">\n",
       "            <td style=\"padding: 0 1em 0 0.5em; text-align: right; border: none;\">\n",
       "                0.0097\n",
       "                \n",
       "                    &plusmn; 0.0040\n",
       "                \n",
       "            </td>\n",
       "            <td style=\"padding: 0 0.5em 0 0.5em; text-align: left; border: none;\">\n",
       "                rms_mean\n",
       "            </td>\n",
       "        </tr>\n",
       "    \n",
       "        <tr style=\"background-color: hsl(120, 100.00%, 91.11%); border: none;\">\n",
       "            <td style=\"padding: 0 1em 0 0.5em; text-align: right; border: none;\">\n",
       "                0.0086\n",
       "                \n",
       "                    &plusmn; 0.0038\n",
       "                \n",
       "            </td>\n",
       "            <td style=\"padding: 0 0.5em 0 0.5em; text-align: left; border: none;\">\n",
       "                mfcc11_mean\n",
       "            </td>\n",
       "        </tr>\n",
       "    \n",
       "        <tr style=\"background-color: hsl(120, 100.00%, 92.24%); border: none;\">\n",
       "            <td style=\"padding: 0 1em 0 0.5em; text-align: right; border: none;\">\n",
       "                0.0071\n",
       "                \n",
       "                    &plusmn; 0.0033\n",
       "                \n",
       "            </td>\n",
       "            <td style=\"padding: 0 0.5em 0 0.5em; text-align: left; border: none;\">\n",
       "                mfcc3_mean\n",
       "            </td>\n",
       "        </tr>\n",
       "    \n",
       "        <tr style=\"background-color: hsl(120, 100.00%, 92.48%); border: none;\">\n",
       "            <td style=\"padding: 0 1em 0 0.5em; text-align: right; border: none;\">\n",
       "                0.0068\n",
       "                \n",
       "                    &plusmn; 0.0049\n",
       "                \n",
       "            </td>\n",
       "            <td style=\"padding: 0 0.5em 0 0.5em; text-align: left; border: none;\">\n",
       "                spectral_bandwidth_mean\n",
       "            </td>\n",
       "        </tr>\n",
       "    \n",
       "        <tr style=\"background-color: hsl(120, 100.00%, 92.80%); border: none;\">\n",
       "            <td style=\"padding: 0 1em 0 0.5em; text-align: right; border: none;\">\n",
       "                0.0064\n",
       "                \n",
       "                    &plusmn; 0.0030\n",
       "                \n",
       "            </td>\n",
       "            <td style=\"padding: 0 0.5em 0 0.5em; text-align: left; border: none;\">\n",
       "                chroma_stft_var\n",
       "            </td>\n",
       "        </tr>\n",
       "    \n",
       "        <tr style=\"background-color: hsl(120, 100.00%, 92.80%); border: none;\">\n",
       "            <td style=\"padding: 0 1em 0 0.5em; text-align: right; border: none;\">\n",
       "                0.0064\n",
       "                \n",
       "                    &plusmn; 0.0023\n",
       "                \n",
       "            </td>\n",
       "            <td style=\"padding: 0 0.5em 0 0.5em; text-align: left; border: none;\">\n",
       "                rolloff_var\n",
       "            </td>\n",
       "        </tr>\n",
       "    \n",
       "        <tr style=\"background-color: hsl(120, 100.00%, 93.11%); border: none;\">\n",
       "            <td style=\"padding: 0 1em 0 0.5em; text-align: right; border: none;\">\n",
       "                0.0060\n",
       "                \n",
       "                    &plusmn; 0.0027\n",
       "                \n",
       "            </td>\n",
       "            <td style=\"padding: 0 0.5em 0 0.5em; text-align: left; border: none;\">\n",
       "                mfcc12_mean\n",
       "            </td>\n",
       "        </tr>\n",
       "    \n",
       "        <tr style=\"background-color: hsl(120, 100.00%, 93.64%); border: none;\">\n",
       "            <td style=\"padding: 0 1em 0 0.5em; text-align: right; border: none;\">\n",
       "                0.0054\n",
       "                \n",
       "                    &plusmn; 0.0035\n",
       "                \n",
       "            </td>\n",
       "            <td style=\"padding: 0 0.5em 0 0.5em; text-align: left; border: none;\">\n",
       "                mfcc13_mean\n",
       "            </td>\n",
       "        </tr>\n",
       "    \n",
       "        <tr style=\"background-color: hsl(120, 100.00%, 93.64%); border: none;\">\n",
       "            <td style=\"padding: 0 1em 0 0.5em; text-align: right; border: none;\">\n",
       "                0.0054\n",
       "                \n",
       "                    &plusmn; 0.0019\n",
       "                \n",
       "            </td>\n",
       "            <td style=\"padding: 0 0.5em 0 0.5em; text-align: left; border: none;\">\n",
       "                mfcc1_mean\n",
       "            </td>\n",
       "        </tr>\n",
       "    \n",
       "    \n",
       "        \n",
       "            <tr style=\"background-color: hsl(120, 100.00%, 93.64%); border: none;\">\n",
       "                <td colspan=\"2\" style=\"padding: 0 0.5em 0 0.5em; text-align: center; border: none; white-space: nowrap;\">\n",
       "                    <i>&hellip; 38 more &hellip;</i>\n",
       "                </td>\n",
       "            </tr>\n",
       "        \n",
       "    \n",
       "    </tbody>\n",
       "</table>\n",
       "    \n",
       "\n",
       "    \n",
       "\n",
       "\n",
       "    \n",
       "\n",
       "    \n",
       "\n",
       "    \n",
       "\n",
       "    \n",
       "\n",
       "    \n",
       "\n",
       "    \n",
       "\n",
       "\n",
       "\n"
      ],
      "text/plain": [
       "<IPython.core.display.HTML object>"
      ]
     },
     "execution_count": 14,
     "metadata": {},
     "output_type": "execute_result"
    }
   ],
   "source": [
    "import eli5\n",
    "from eli5.sklearn import PermutationImportance\n",
    "\n",
    "perm = PermutationImportance(estimator=rfc, random_state=1)\n",
    "perm.fit(test_x, test_y)\n",
    "\n",
    "eli5.show_weights(estimator=perm, feature_names = test_x.columns.tolist())"
   ]
  },
  {
   "cell_type": "markdown",
   "id": "aa8cf7f7",
   "metadata": {
    "papermill": {
     "duration": 0.020408,
     "end_time": "2022-01-18T03:36:47.555576",
     "exception": false,
     "start_time": "2022-01-18T03:36:47.535168",
     "status": "completed"
    },
    "tags": []
   },
   "source": [
    "## UNsupervised Learning"
   ]
  },
  {
   "cell_type": "code",
   "execution_count": 15,
   "id": "663cb657",
   "metadata": {
    "execution": {
     "iopub.execute_input": "2022-01-18T03:36:47.601239Z",
     "iopub.status.busy": "2022-01-18T03:36:47.600684Z",
     "iopub.status.idle": "2022-01-18T03:36:49.803599Z",
     "shell.execute_reply": "2022-01-18T03:36:49.804428Z",
     "shell.execute_reply.started": "2021-12-05T03:08:57.678791Z"
    },
    "papermill": {
     "duration": 2.228517,
     "end_time": "2022-01-18T03:36:49.804633",
     "exception": false,
     "start_time": "2022-01-18T03:36:47.576116",
     "status": "completed"
    },
    "tags": []
   },
   "outputs": [
    {
     "data": {
      "text/plain": [
       "array([5, 1, 2, ..., 2, 5, 4], dtype=int32)"
      ]
     },
     "execution_count": 15,
     "metadata": {},
     "output_type": "execute_result"
    }
   ],
   "source": [
    "from sklearn.cluster import KMeans\n",
    "kmeans = KMeans(n_clusters=10, random_state=0).fit_predict(train_x)\n",
    "kmeans"
   ]
  },
  {
   "cell_type": "code",
   "execution_count": 16,
   "id": "7144c44d",
   "metadata": {
    "execution": {
     "iopub.execute_input": "2022-01-18T03:36:49.871266Z",
     "iopub.status.busy": "2022-01-18T03:36:49.870610Z",
     "iopub.status.idle": "2022-01-18T03:37:12.680806Z",
     "shell.execute_reply": "2022-01-18T03:37:12.681737Z",
     "shell.execute_reply.started": "2021-12-05T16:27:36.082488Z"
    },
    "papermill": {
     "duration": 22.8501,
     "end_time": "2022-01-18T03:37:12.681937",
     "exception": false,
     "start_time": "2022-01-18T03:36:49.831837",
     "status": "completed"
    },
    "tags": []
   },
   "outputs": [
    {
     "data": {
      "image/png": "[encoded data removed]",
      "text/plain": [
       "<Figure size 432x288 with 1 Axes>"
      ]
     },
     "metadata": {
      "needs_background": "light"
     },
     "output_type": "display_data"
    }
   ],
   "source": [
    "from sklearn.cluster import KMeans\n",
    "wcss=[]\n",
    "\n",
    "for i in range(1,13): \n",
    "    kmeans = KMeans(n_clusters=i, init ='k-means++', max_iter=300,  n_init=10,random_state=0 )\n",
    "    kmeans.fit(train_x)\n",
    "    wcss.append(kmeans.inertia_)\n",
    "\n",
    "plt.plot(range(1,13),wcss)\n",
    "plt.title('The Elbow Method Graph')\n",
    "plt.xlabel('Number of clusters')\n",
    "plt.ylabel('WCSS')\n",
    "plt.show()"
   ]
  },
  {
   "cell_type": "code",
   "execution_count": 17,
   "id": "3ca2e4c4",
   "metadata": {
    "execution": {
     "iopub.execute_input": "2022-01-18T03:37:12.746471Z",
     "iopub.status.busy": "2022-01-18T03:37:12.745763Z",
     "iopub.status.idle": "2022-01-18T03:37:13.144212Z",
     "shell.execute_reply": "2022-01-18T03:37:13.143027Z",
     "shell.execute_reply.started": "2021-12-05T03:11:41.199173Z"
    },
    "papermill": {
     "duration": 0.434881,
     "end_time": "2022-01-18T03:37:13.144523",
     "exception": true,
     "start_time": "2022-01-18T03:37:12.709642",
     "status": "failed"
    },
    "tags": []
   },
   "outputs": [
    {
     "ename": "KeyError",
     "evalue": "False",
     "output_type": "error",
     "traceback": [
      "\u001b[0;31m---------------------------------------------------------------------------\u001b[0m",
      "\u001b[0;31mKeyError\u001b[0m                                  Traceback (most recent call last)",
      "\u001b[0;32m/opt/conda/lib/python3.7/site-packages/pandas/core/indexes/base.py\u001b[0m in \u001b[0;36mget_loc\u001b[0;34m(self, key, method, tolerance)\u001b[0m\n\u001b[1;32m   3360\u001b[0m             \u001b[0;32mtry\u001b[0m\u001b[0;34m:\u001b[0m\u001b[0;34m\u001b[0m\u001b[0;34m\u001b[0m\u001b[0m\n\u001b[0;32m-> 3361\u001b[0;31m                 \u001b[0;32mreturn\u001b[0m \u001b[0mself\u001b[0m\u001b[0;34m.\u001b[0m\u001b[0m_engine\u001b[0m\u001b[0;34m.\u001b[0m\u001b[0mget_loc\u001b[0m\u001b[0;34m(\u001b[0m\u001b[0mcasted_key\u001b[0m\u001b[0;34m)\u001b[0m\u001b[0;34m\u001b[0m\u001b[0;34m\u001b[0m\u001b[0m\n\u001b[0m\u001b[1;32m   3362\u001b[0m             \u001b[0;32mexcept\u001b[0m \u001b[0mKeyError\u001b[0m \u001b[0;32mas\u001b[0m \u001b[0merr\u001b[0m\u001b[0;34m:\u001b[0m\u001b[0;34m\u001b[0m\u001b[0;34m\u001b[0m\u001b[0m\n",
      "\u001b[0;32m/opt/conda/lib/python3.7/site-packages/pandas/_libs/index.pyx\u001b[0m in \u001b[0;36mpandas._libs.index.IndexEngine.get_loc\u001b[0;34m()\u001b[0m\n",
      "\u001b[0;32m/opt/conda/lib/python3.7/site-packages/pandas/_libs/index.pyx\u001b[0m in \u001b[0;36mpandas._libs.index.IndexEngine.get_loc\u001b[0;34m()\u001b[0m\n",
      "\u001b[0;32mpandas/_libs/hashtable_class_helper.pxi\u001b[0m in \u001b[0;36mpandas._libs.hashtable.PyObjectHashTable.get_item\u001b[0;34m()\u001b[0m\n",
      "\u001b[0;32mpandas/_libs/hashtable_class_helper.pxi\u001b[0m in \u001b[0;36mpandas._libs.hashtable.PyObjectHashTable.get_item\u001b[0;34m()\u001b[0m\n",
      "\u001b[0;31mKeyError\u001b[0m: False",
      "\nThe above exception was the direct cause of the following exception:\n",
      "\u001b[0;31mKeyError\u001b[0m                                  Traceback (most recent call last)",
      "\u001b[0;32m/tmp/ipykernel_20/2751759819.py\u001b[0m in \u001b[0;36m<module>\u001b[0;34m\u001b[0m\n\u001b[1;32m      1\u001b[0m \u001b[0mc_matrix\u001b[0m \u001b[0;34m=\u001b[0m \u001b[0;34m[\u001b[0m\u001b[0;34m]\u001b[0m\u001b[0;34m\u001b[0m\u001b[0;34m\u001b[0m\u001b[0m\n\u001b[1;32m      2\u001b[0m \u001b[0;32mfor\u001b[0m \u001b[0mx\u001b[0m \u001b[0;32min\u001b[0m \u001b[0mrange\u001b[0m\u001b[0;34m(\u001b[0m\u001b[0;36m9\u001b[0m\u001b[0;34m)\u001b[0m\u001b[0;34m:\u001b[0m\u001b[0;34m\u001b[0m\u001b[0;34m\u001b[0m\u001b[0m\n\u001b[0;32m----> 3\u001b[0;31m     \u001b[0mfiltered_label2\u001b[0m \u001b[0;34m=\u001b[0m \u001b[0mtrain_x\u001b[0m\u001b[0;34m[\u001b[0m\u001b[0mkmeans\u001b[0m \u001b[0;34m==\u001b[0m \u001b[0mx\u001b[0m\u001b[0;34m]\u001b[0m\u001b[0;34m\u001b[0m\u001b[0;34m\u001b[0m\u001b[0m\n\u001b[0m\u001b[1;32m      4\u001b[0m     \u001b[0mtrue_label\u001b[0m \u001b[0;34m=\u001b[0m \u001b[0mtrain_y\u001b[0m\u001b[0;34m[\u001b[0m\u001b[0mkmeans\u001b[0m \u001b[0;34m==\u001b[0m \u001b[0mx\u001b[0m\u001b[0;34m]\u001b[0m\u001b[0;34m\u001b[0m\u001b[0;34m\u001b[0m\u001b[0m\n\u001b[1;32m      5\u001b[0m     \u001b[0marr\u001b[0m \u001b[0;34m=\u001b[0m \u001b[0;34m[\u001b[0m\u001b[0;34m]\u001b[0m\u001b[0;34m\u001b[0m\u001b[0;34m\u001b[0m\u001b[0m\n",
      "\u001b[0;32m/opt/conda/lib/python3.7/site-packages/pandas/core/frame.py\u001b[0m in \u001b[0;36m__getitem__\u001b[0;34m(self, key)\u001b[0m\n\u001b[1;32m   3456\u001b[0m             \u001b[0;32mif\u001b[0m \u001b[0mself\u001b[0m\u001b[0;34m.\u001b[0m\u001b[0mcolumns\u001b[0m\u001b[0;34m.\u001b[0m\u001b[0mnlevels\u001b[0m \u001b[0;34m>\u001b[0m \u001b[0;36m1\u001b[0m\u001b[0;34m:\u001b[0m\u001b[0;34m\u001b[0m\u001b[0;34m\u001b[0m\u001b[0m\n\u001b[1;32m   3457\u001b[0m                 \u001b[0;32mreturn\u001b[0m \u001b[0mself\u001b[0m\u001b[0;34m.\u001b[0m\u001b[0m_getitem_multilevel\u001b[0m\u001b[0;34m(\u001b[0m\u001b[0mkey\u001b[0m\u001b[0;34m)\u001b[0m\u001b[0;34m\u001b[0m\u001b[0;34m\u001b[0m\u001b[0m\n\u001b[0;32m-> 3458\u001b[0;31m             \u001b[0mindexer\u001b[0m \u001b[0;34m=\u001b[0m \u001b[0mself\u001b[0m\u001b[0;34m.\u001b[0m\u001b[0mcolumns\u001b[0m\u001b[0;34m.\u001b[0m\u001b[0mget_loc\u001b[0m\u001b[0;34m(\u001b[0m\u001b[0mkey\u001b[0m\u001b[0;34m)\u001b[0m\u001b[0;34m\u001b[0m\u001b[0;34m\u001b[0m\u001b[0m\n\u001b[0m\u001b[1;32m   3459\u001b[0m             \u001b[0;32mif\u001b[0m \u001b[0mis_integer\u001b[0m\u001b[0;34m(\u001b[0m\u001b[0mindexer\u001b[0m\u001b[0;34m)\u001b[0m\u001b[0;34m:\u001b[0m\u001b[0;34m\u001b[0m\u001b[0;34m\u001b[0m\u001b[0m\n\u001b[1;32m   3460\u001b[0m                 \u001b[0mindexer\u001b[0m \u001b[0;34m=\u001b[0m \u001b[0;34m[\u001b[0m\u001b[0mindexer\u001b[0m\u001b[0;34m]\u001b[0m\u001b[0;34m\u001b[0m\u001b[0;34m\u001b[0m\u001b[0m\n",
      "\u001b[0;32m/opt/conda/lib/python3.7/site-packages/pandas/core/indexes/base.py\u001b[0m in \u001b[0;36mget_loc\u001b[0;34m(self, key, method, tolerance)\u001b[0m\n\u001b[1;32m   3361\u001b[0m                 \u001b[0;32mreturn\u001b[0m \u001b[0mself\u001b[0m\u001b[0;34m.\u001b[0m\u001b[0m_engine\u001b[0m\u001b[0;34m.\u001b[0m\u001b[0mget_loc\u001b[0m\u001b[0;34m(\u001b[0m\u001b[0mcasted_key\u001b[0m\u001b[0;34m)\u001b[0m\u001b[0;34m\u001b[0m\u001b[0;34m\u001b[0m\u001b[0m\n\u001b[1;32m   3362\u001b[0m             \u001b[0;32mexcept\u001b[0m \u001b[0mKeyError\u001b[0m \u001b[0;32mas\u001b[0m \u001b[0merr\u001b[0m\u001b[0;34m:\u001b[0m\u001b[0;34m\u001b[0m\u001b[0;34m\u001b[0m\u001b[0m\n\u001b[0;32m-> 3363\u001b[0;31m                 \u001b[0;32mraise\u001b[0m \u001b[0mKeyError\u001b[0m\u001b[0;34m(\u001b[0m\u001b[0mkey\u001b[0m\u001b[0;34m)\u001b[0m \u001b[0;32mfrom\u001b[0m \u001b[0merr\u001b[0m\u001b[0;34m\u001b[0m\u001b[0;34m\u001b[0m\u001b[0m\n\u001b[0m\u001b[1;32m   3364\u001b[0m \u001b[0;34m\u001b[0m\u001b[0m\n\u001b[1;32m   3365\u001b[0m         \u001b[0;32mif\u001b[0m \u001b[0mis_scalar\u001b[0m\u001b[0;34m(\u001b[0m\u001b[0mkey\u001b[0m\u001b[0;34m)\u001b[0m \u001b[0;32mand\u001b[0m \u001b[0misna\u001b[0m\u001b[0;34m(\u001b[0m\u001b[0mkey\u001b[0m\u001b[0;34m)\u001b[0m \u001b[0;32mand\u001b[0m \u001b[0;32mnot\u001b[0m \u001b[0mself\u001b[0m\u001b[0;34m.\u001b[0m\u001b[0mhasnans\u001b[0m\u001b[0;34m:\u001b[0m\u001b[0;34m\u001b[0m\u001b[0;34m\u001b[0m\u001b[0m\n",
      "\u001b[0;31mKeyError\u001b[0m: False"
     ]
    }
   ],
   "source": [
    "c_matrix = []\n",
    "for x in range(9):\n",
    "    filtered_label2 = train_x[kmeans == x]\n",
    "    true_label = train_y[kmeans == x]\n",
    "    arr = []\n",
    "    for y in range(9):\n",
    "        correct_label = true_label[np.where(true_label == y)]\n",
    "        arr.append(len(correct_label)/len(true_label))\n",
    "    c_matrix.append(arr)\n",
    "\n",
    "print(c_matrix)\n",
    "plt.figure(figsize = (16, 9))\n",
    "sns.heatmap(c_matrix, cmap=\"Greens\", annot=True, \n",
    "            xticklabels = le.classes_,\n",
    "           yticklabels= [y for y in range(9)]);"
   ]
  },
  {
   "cell_type": "code",
   "execution_count": null,
   "id": "e5acc7e2",
   "metadata": {
    "papermill": {
     "duration": null,
     "end_time": null,
     "exception": null,
     "start_time": null,
     "status": "pending"
    },
    "tags": []
   },
   "outputs": [],
   "source": []
  }
 ],
 "metadata": {
  "kernelspec": {
   "display_name": "Python 3",
   "language": "python",
   "name": "python3"
  },
  "language_info": {
   "codemirror_mode": {
    "name": "ipython",
    "version": 3
   },
   "file_extension": ".py",
   "mimetype": "text/x-python",
   "name": "python",
   "nbconvert_exporter": "python",
   "pygments_lexer": "ipython3",
   "version": "3.7.10"
  },
  "papermill": {
   "default_parameters": {},
   "duration": 1264.065189,
   "end_time": "2022-01-18T03:37:16.723860",
   "environment_variables": {},
   "exception": true,
   "input_path": "__notebook__.ipynb",
   "output_path": "__notebook__.ipynb",
   "parameters": {},
   "start_time": "2022-01-18T03:16:12.658671",
   "version": "2.3.3"
  }
 },
 "nbformat": 4,
 "nbformat_minor": 5
}
