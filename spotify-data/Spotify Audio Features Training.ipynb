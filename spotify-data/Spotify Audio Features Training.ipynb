{
 "cells": [
  {
   "cell_type": "code",
   "execution_count": 25,
   "metadata": {},
   "outputs": [],
   "source": [
    "import spotipy\n",
    "from spotipy.oauth2 import SpotifyOAuth\n",
    "from pprint import pprint\n",
    "import pandas as pd \n",
    "from random import sample\n",
    "from sklearn.metrics import confusion_matrix\n",
    "import seaborn as sns\n",
    "import matplotlib.pyplot as plt\n",
    "%matplotlib inline\n",
    "import numpy as np"
   ]
  },
  {
   "cell_type": "code",
   "execution_count": 26,
   "metadata": {},
   "outputs": [],
   "source": [
    "sp = spotipy.Spotify(auth_manager=SpotifyOAuth(client_id=\"f3a52efb14cf42a3840d1c04b283ca91\",\n",
    "                                               client_secret=\"fda334c722424e84989f5e95a2abf3d4\",\n",
    "                                               redirect_uri=\"http://localhost:8888/callback\",\n",
    "                                               scope=\"user-library-read\"))"
   ]
  },
  {
   "cell_type": "code",
   "execution_count": 27,
   "metadata": {},
   "outputs": [],
   "source": [
    "def getTracks(url):\n",
    "    tracks = []\n",
    "    response = sp.playlist_items(url,\n",
    "                                    offset=0,\n",
    "                                    fields='items.track.id,total',\n",
    "                                    additional_types=['track'])\n",
    "    if len(response['items']) == 0:\n",
    "        return null \n",
    "\n",
    "    for item in response['items']:\n",
    "        tracks.append(item['track']['id'])\n",
    "\n",
    "    return tracks"
   ]
  },
  {
   "cell_type": "code",
   "execution_count": 56,
   "metadata": {},
   "outputs": [],
   "source": [
    "playlists = {\n",
    "    'pop': [\"https://open.spotify.com/playlist/37i9dQZF1DX5gQonLbZD9s?si=30767127b8f94469\", \n",
    "            \"https://open.spotify.com/playlist/37i9dQZF1DXcBWIGoYBM5M?si=5a03addc2bc0459d\"],\n",
    "    'rock': [\"https://open.spotify.com/playlist/37i9dQZF1DXcF6B6QPhFDv?si=b03e02334d354bf8\", \n",
    "             \"https://open.spotify.com/playlist/37i9dQZF1DWXRqgorJj26U?si=d10677ac57614cdf\"],\n",
    "    'classical': [\"https://open.spotify.com/playlist/37i9dQZF1DWWEJlAGA9gs0?si=96c90b5d91994be8\", \n",
    "                  \"https://open.spotify.com/playlist/37i9dQZF1DWV0gynK7G6pD?si=b2513a07351040ea\"],\n",
    "    'country': [\"https://open.spotify.com/playlist/37i9dQZF1DX1lVhptIYRda?si=598d4d9cae29480a\", \n",
    "                \"https://open.spotify.com/playlist/37i9dQZF1DWTkxQvqMy4WW?si=cfbffb74bcea4697\"],\n",
    "#     'jazz': [\"https://open.spotify.com/playlist/37i9dQZF1DXbITWG1ZJKYt?si=eab23f856a494a22\", \n",
    "#              \"https://open.spotify.com/playlist/37i9dQZF1DXdwTUxmGKrdN?si=5aa84d1745fd4bc1\"]\n",
    "#     'metal': [\"https://open.spotify.com/playlist/37i9dQZF1DWXNFSTtym834?si=3a9438df40e547a4\", \n",
    "#               \"https://open.spotify.com/playlist/37i9dQZF1DWWOaP4H0w5b0?si=415c0cace9fd40f1\"]\n",
    "#     \"k-pop\": [\"https://open.spotify.com/playlist/37i9dQZF1DX14fiWYoe7Oh?si=82779124ede94fa0\"]\n",
    "    'blues': [\"https://open.spotify.com/playlist/37i9dQZF1DXd9rSDyQguIk?si=4c914d3060274822\", \n",
    "              \"https://open.spotify.com/playlist/37i9dQZF1DWThcryaU9mXU?si=1c4b717a064644e3\"]\n",
    "}"
   ]
  },
  {
   "cell_type": "code",
   "execution_count": 57,
   "metadata": {},
   "outputs": [],
   "source": [
    "tracks = {}\n",
    "for genre in playlists: \n",
    "    for playlist in playlists[genre]: \n",
    "        if not genre in tracks: \n",
    "            tracks[genre] = getTracks(playlist)\n",
    "        else: \n",
    "            tracks[genre].extend(getTracks(playlist))"
   ]
  },
  {
   "cell_type": "code",
   "execution_count": 59,
   "metadata": {},
   "outputs": [
    {
     "name": "stdout",
     "output_type": "stream",
     "text": [
      "The number of tracks per category: 110\n",
      "The number of tracks: 550\n"
     ]
    }
   ],
   "source": [
    "# crop number of tracks \n",
    "lens = []\n",
    "for genre in tracks:\n",
    "    lens.append(len(tracks[genre]))\n",
    "\n",
    "size = min(lens)\n",
    "\n",
    "for genre in tracks: \n",
    "    tracks[genre] = sample(tracks[genre], size)\n",
    "\n",
    "print(f\"The number of tracks per category: {size}\")\n",
    "total = len(tracks[\"pop\"]) + len(tracks[\"rock\"]) + len(tracks[\"classical\"]) + len(tracks[\"country\"]) + len(tracks[\"blues\"])\n",
    "print(f\"The number of tracks: {total}\")"
   ]
  },
  {
   "cell_type": "code",
   "execution_count": 60,
   "metadata": {},
   "outputs": [
    {
     "data": {
      "text/plain": [
       "550"
      ]
     },
     "execution_count": 60,
     "metadata": {},
     "output_type": "execute_result"
    }
   ],
   "source": [
    "features = []\n",
    "\n",
    "for genre in tracks:\n",
    "    my_dict = []\n",
    "    for x in range(0, size, 100):\n",
    "        if x+100 < size: \n",
    "            my_dict.extend(sp.audio_features(tracks[genre][x:x+100]))\n",
    "        else: \n",
    "            my_dict.extend(sp.audio_features(tracks[genre][x:size]))\n",
    "    for d in my_dict: \n",
    "        d[\"genre\"] = genre\n",
    "    features.extend(my_dict)\n",
    "len(features)"
   ]
  },
  {
   "cell_type": "code",
   "execution_count": 61,
   "metadata": {},
   "outputs": [
    {
     "name": "stdout",
     "output_type": "stream",
     "text": [
      "(550, 19)\n",
      "(540, 19)\n"
     ]
    }
   ],
   "source": [
    "df = pd.DataFrame(features)\n",
    "print(df.shape)\n",
    "df.drop_duplicates(subset=\"id\", inplace=True)\n",
    "print(df.shape)"
   ]
  },
  {
   "cell_type": "code",
   "execution_count": 62,
   "metadata": {},
   "outputs": [
    {
     "name": "stdout",
     "output_type": "stream",
     "text": [
      "105\n",
      "0\n",
      "109\n",
      "4\n",
      "110\n",
      "5\n",
      "109\n",
      "4\n",
      "107\n",
      "2\n",
      "The number of tracks per category: 105\n",
      "The number of tracks: 525\n"
     ]
    }
   ],
   "source": [
    "sizes = []\n",
    "for genre in playlists:\n",
    "    sizes.append(df[df[\"genre\"] == genre].shape[0])\n",
    "\n",
    "\n",
    "size = min(sizes)\n",
    "\n",
    "#new_data = []\n",
    "for genre in tracks: \n",
    "    print(df[df[\"genre\"] == genre].shape[0])\n",
    "    diff = df[df[\"genre\"] == genre].shape[0] - size\n",
    "    print(diff)\n",
    "    drop_indices = np.random.choice(df[df[\"genre\"] == genre].index, diff, replace=False)\n",
    "    df.drop(drop_indices, inplace=True)\n",
    "\n",
    "#df = pd.DataFrame(new_data)\n",
    "print(f\"The number of tracks per category: {size}\")\n",
    "print(f\"The number of tracks: {df.shape[0]}\")\n"
   ]
  },
  {
   "cell_type": "code",
   "execution_count": 63,
   "metadata": {},
   "outputs": [
    {
     "data": {
      "text/html": [
       "<div>\n",
       "<style scoped>\n",
       "    .dataframe tbody tr th:only-of-type {\n",
       "        vertical-align: middle;\n",
       "    }\n",
       "\n",
       "    .dataframe tbody tr th {\n",
       "        vertical-align: top;\n",
       "    }\n",
       "\n",
       "    .dataframe thead th {\n",
       "        text-align: right;\n",
       "    }\n",
       "</style>\n",
       "<table border=\"1\" class=\"dataframe\">\n",
       "  <thead>\n",
       "    <tr style=\"text-align: right;\">\n",
       "      <th></th>\n",
       "      <th>danceability</th>\n",
       "      <th>energy</th>\n",
       "      <th>key</th>\n",
       "      <th>loudness</th>\n",
       "      <th>mode</th>\n",
       "      <th>speechiness</th>\n",
       "      <th>acousticness</th>\n",
       "      <th>instrumentalness</th>\n",
       "      <th>liveness</th>\n",
       "      <th>valence</th>\n",
       "      <th>tempo</th>\n",
       "      <th>type</th>\n",
       "      <th>id</th>\n",
       "      <th>uri</th>\n",
       "      <th>track_href</th>\n",
       "      <th>analysis_url</th>\n",
       "      <th>duration_ms</th>\n",
       "      <th>time_signature</th>\n",
       "      <th>genre</th>\n",
       "    </tr>\n",
       "  </thead>\n",
       "  <tbody>\n",
       "    <tr>\n",
       "      <th>0</th>\n",
       "      <td>0.768</td>\n",
       "      <td>0.678</td>\n",
       "      <td>2</td>\n",
       "      <td>-5.604</td>\n",
       "      <td>1</td>\n",
       "      <td>0.0505</td>\n",
       "      <td>0.00838</td>\n",
       "      <td>0.00000</td>\n",
       "      <td>0.0596</td>\n",
       "      <td>0.706</td>\n",
       "      <td>85.025</td>\n",
       "      <td>audio_features</td>\n",
       "      <td>29fRTIKsJhLUJoldM89GZS</td>\n",
       "      <td>spotify:track:29fRTIKsJhLUJoldM89GZS</td>\n",
       "      <td>https://api.spotify.com/v1/tracks/29fRTIKsJhLU...</td>\n",
       "      <td>https://api.spotify.com/v1/audio-analysis/29fR...</td>\n",
       "      <td>171387</td>\n",
       "      <td>4</td>\n",
       "      <td>pop</td>\n",
       "    </tr>\n",
       "    <tr>\n",
       "      <th>1</th>\n",
       "      <td>0.673</td>\n",
       "      <td>0.729</td>\n",
       "      <td>6</td>\n",
       "      <td>-4.879</td>\n",
       "      <td>1</td>\n",
       "      <td>0.0496</td>\n",
       "      <td>0.08300</td>\n",
       "      <td>0.00000</td>\n",
       "      <td>0.1000</td>\n",
       "      <td>0.675</td>\n",
       "      <td>122.023</td>\n",
       "      <td>audio_features</td>\n",
       "      <td>2Xy1UIVfOlukyye6Fd0wrI</td>\n",
       "      <td>spotify:track:2Xy1UIVfOlukyye6Fd0wrI</td>\n",
       "      <td>https://api.spotify.com/v1/tracks/2Xy1UIVfOluk...</td>\n",
       "      <td>https://api.spotify.com/v1/audio-analysis/2Xy1...</td>\n",
       "      <td>169672</td>\n",
       "      <td>4</td>\n",
       "      <td>pop</td>\n",
       "    </tr>\n",
       "    <tr>\n",
       "      <th>2</th>\n",
       "      <td>0.735</td>\n",
       "      <td>0.689</td>\n",
       "      <td>7</td>\n",
       "      <td>-5.410</td>\n",
       "      <td>0</td>\n",
       "      <td>0.0513</td>\n",
       "      <td>0.00381</td>\n",
       "      <td>0.00146</td>\n",
       "      <td>0.4090</td>\n",
       "      <td>0.710</td>\n",
       "      <td>116.940</td>\n",
       "      <td>audio_features</td>\n",
       "      <td>4NjTrZ2IQeWnIbzyY2SOfz</td>\n",
       "      <td>spotify:track:4NjTrZ2IQeWnIbzyY2SOfz</td>\n",
       "      <td>https://api.spotify.com/v1/tracks/4NjTrZ2IQeWn...</td>\n",
       "      <td>https://api.spotify.com/v1/audio-analysis/4NjT...</td>\n",
       "      <td>156168</td>\n",
       "      <td>4</td>\n",
       "      <td>pop</td>\n",
       "    </tr>\n",
       "    <tr>\n",
       "      <th>3</th>\n",
       "      <td>0.774</td>\n",
       "      <td>0.792</td>\n",
       "      <td>10</td>\n",
       "      <td>-4.021</td>\n",
       "      <td>1</td>\n",
       "      <td>0.0523</td>\n",
       "      <td>0.05100</td>\n",
       "      <td>0.00000</td>\n",
       "      <td>0.1550</td>\n",
       "      <td>0.507</td>\n",
       "      <td>122.062</td>\n",
       "      <td>audio_features</td>\n",
       "      <td>3eJH2nAjvNXdmPfBkALiPZ</td>\n",
       "      <td>spotify:track:3eJH2nAjvNXdmPfBkALiPZ</td>\n",
       "      <td>https://api.spotify.com/v1/tracks/3eJH2nAjvNXd...</td>\n",
       "      <td>https://api.spotify.com/v1/audio-analysis/3eJH...</td>\n",
       "      <td>139672</td>\n",
       "      <td>4</td>\n",
       "      <td>pop</td>\n",
       "    </tr>\n",
       "    <tr>\n",
       "      <th>4</th>\n",
       "      <td>0.829</td>\n",
       "      <td>0.512</td>\n",
       "      <td>6</td>\n",
       "      <td>-5.865</td>\n",
       "      <td>0</td>\n",
       "      <td>0.1870</td>\n",
       "      <td>0.49200</td>\n",
       "      <td>0.00000</td>\n",
       "      <td>0.1200</td>\n",
       "      <td>0.638</td>\n",
       "      <td>80.511</td>\n",
       "      <td>audio_features</td>\n",
       "      <td>4XvcHTUfIlWfyJTRG0aqlo</td>\n",
       "      <td>spotify:track:4XvcHTUfIlWfyJTRG0aqlo</td>\n",
       "      <td>https://api.spotify.com/v1/tracks/4XvcHTUfIlWf...</td>\n",
       "      <td>https://api.spotify.com/v1/audio-analysis/4Xvc...</td>\n",
       "      <td>123987</td>\n",
       "      <td>4</td>\n",
       "      <td>pop</td>\n",
       "    </tr>\n",
       "  </tbody>\n",
       "</table>\n",
       "</div>"
      ],
      "text/plain": [
       "   danceability  energy  key  loudness  mode  speechiness  acousticness  \\\n",
       "0         0.768   0.678    2    -5.604     1       0.0505       0.00838   \n",
       "1         0.673   0.729    6    -4.879     1       0.0496       0.08300   \n",
       "2         0.735   0.689    7    -5.410     0       0.0513       0.00381   \n",
       "3         0.774   0.792   10    -4.021     1       0.0523       0.05100   \n",
       "4         0.829   0.512    6    -5.865     0       0.1870       0.49200   \n",
       "\n",
       "   instrumentalness  liveness  valence    tempo            type  \\\n",
       "0           0.00000    0.0596    0.706   85.025  audio_features   \n",
       "1           0.00000    0.1000    0.675  122.023  audio_features   \n",
       "2           0.00146    0.4090    0.710  116.940  audio_features   \n",
       "3           0.00000    0.1550    0.507  122.062  audio_features   \n",
       "4           0.00000    0.1200    0.638   80.511  audio_features   \n",
       "\n",
       "                       id                                   uri  \\\n",
       "0  29fRTIKsJhLUJoldM89GZS  spotify:track:29fRTIKsJhLUJoldM89GZS   \n",
       "1  2Xy1UIVfOlukyye6Fd0wrI  spotify:track:2Xy1UIVfOlukyye6Fd0wrI   \n",
       "2  4NjTrZ2IQeWnIbzyY2SOfz  spotify:track:4NjTrZ2IQeWnIbzyY2SOfz   \n",
       "3  3eJH2nAjvNXdmPfBkALiPZ  spotify:track:3eJH2nAjvNXdmPfBkALiPZ   \n",
       "4  4XvcHTUfIlWfyJTRG0aqlo  spotify:track:4XvcHTUfIlWfyJTRG0aqlo   \n",
       "\n",
       "                                          track_href  \\\n",
       "0  https://api.spotify.com/v1/tracks/29fRTIKsJhLU...   \n",
       "1  https://api.spotify.com/v1/tracks/2Xy1UIVfOluk...   \n",
       "2  https://api.spotify.com/v1/tracks/4NjTrZ2IQeWn...   \n",
       "3  https://api.spotify.com/v1/tracks/3eJH2nAjvNXd...   \n",
       "4  https://api.spotify.com/v1/tracks/4XvcHTUfIlWf...   \n",
       "\n",
       "                                        analysis_url  duration_ms  \\\n",
       "0  https://api.spotify.com/v1/audio-analysis/29fR...       171387   \n",
       "1  https://api.spotify.com/v1/audio-analysis/2Xy1...       169672   \n",
       "2  https://api.spotify.com/v1/audio-analysis/4NjT...       156168   \n",
       "3  https://api.spotify.com/v1/audio-analysis/3eJH...       139672   \n",
       "4  https://api.spotify.com/v1/audio-analysis/4Xvc...       123987   \n",
       "\n",
       "   time_signature genre  \n",
       "0               4   pop  \n",
       "1               4   pop  \n",
       "2               4   pop  \n",
       "3               4   pop  \n",
       "4               4   pop  "
      ]
     },
     "execution_count": 63,
     "metadata": {},
     "output_type": "execute_result"
    }
   ],
   "source": [
    "df.head()"
   ]
  },
  {
   "cell_type": "code",
   "execution_count": 64,
   "metadata": {},
   "outputs": [],
   "source": [
    "df.drop(labels =[\"type\", \"id\", \"uri\", \"track_href\", \"analysis_url\", \"duration_ms\", \"time_signature\"], inplace=True, axis=1)"
   ]
  },
  {
   "cell_type": "code",
   "execution_count": 65,
   "metadata": {},
   "outputs": [
    {
     "data": {
      "text/html": [
       "<div>\n",
       "<style scoped>\n",
       "    .dataframe tbody tr th:only-of-type {\n",
       "        vertical-align: middle;\n",
       "    }\n",
       "\n",
       "    .dataframe tbody tr th {\n",
       "        vertical-align: top;\n",
       "    }\n",
       "\n",
       "    .dataframe thead th {\n",
       "        text-align: right;\n",
       "    }\n",
       "</style>\n",
       "<table border=\"1\" class=\"dataframe\">\n",
       "  <thead>\n",
       "    <tr style=\"text-align: right;\">\n",
       "      <th></th>\n",
       "      <th>danceability</th>\n",
       "      <th>energy</th>\n",
       "      <th>key</th>\n",
       "      <th>loudness</th>\n",
       "      <th>mode</th>\n",
       "      <th>speechiness</th>\n",
       "      <th>acousticness</th>\n",
       "      <th>instrumentalness</th>\n",
       "      <th>liveness</th>\n",
       "      <th>valence</th>\n",
       "      <th>tempo</th>\n",
       "      <th>genre</th>\n",
       "    </tr>\n",
       "  </thead>\n",
       "  <tbody>\n",
       "    <tr>\n",
       "      <th>0</th>\n",
       "      <td>0.768</td>\n",
       "      <td>0.678</td>\n",
       "      <td>2</td>\n",
       "      <td>-5.604</td>\n",
       "      <td>1</td>\n",
       "      <td>0.0505</td>\n",
       "      <td>0.00838</td>\n",
       "      <td>0.00000</td>\n",
       "      <td>0.0596</td>\n",
       "      <td>0.706</td>\n",
       "      <td>85.025</td>\n",
       "      <td>pop</td>\n",
       "    </tr>\n",
       "    <tr>\n",
       "      <th>1</th>\n",
       "      <td>0.673</td>\n",
       "      <td>0.729</td>\n",
       "      <td>6</td>\n",
       "      <td>-4.879</td>\n",
       "      <td>1</td>\n",
       "      <td>0.0496</td>\n",
       "      <td>0.08300</td>\n",
       "      <td>0.00000</td>\n",
       "      <td>0.1000</td>\n",
       "      <td>0.675</td>\n",
       "      <td>122.023</td>\n",
       "      <td>pop</td>\n",
       "    </tr>\n",
       "    <tr>\n",
       "      <th>2</th>\n",
       "      <td>0.735</td>\n",
       "      <td>0.689</td>\n",
       "      <td>7</td>\n",
       "      <td>-5.410</td>\n",
       "      <td>0</td>\n",
       "      <td>0.0513</td>\n",
       "      <td>0.00381</td>\n",
       "      <td>0.00146</td>\n",
       "      <td>0.4090</td>\n",
       "      <td>0.710</td>\n",
       "      <td>116.940</td>\n",
       "      <td>pop</td>\n",
       "    </tr>\n",
       "    <tr>\n",
       "      <th>3</th>\n",
       "      <td>0.774</td>\n",
       "      <td>0.792</td>\n",
       "      <td>10</td>\n",
       "      <td>-4.021</td>\n",
       "      <td>1</td>\n",
       "      <td>0.0523</td>\n",
       "      <td>0.05100</td>\n",
       "      <td>0.00000</td>\n",
       "      <td>0.1550</td>\n",
       "      <td>0.507</td>\n",
       "      <td>122.062</td>\n",
       "      <td>pop</td>\n",
       "    </tr>\n",
       "    <tr>\n",
       "      <th>4</th>\n",
       "      <td>0.829</td>\n",
       "      <td>0.512</td>\n",
       "      <td>6</td>\n",
       "      <td>-5.865</td>\n",
       "      <td>0</td>\n",
       "      <td>0.1870</td>\n",
       "      <td>0.49200</td>\n",
       "      <td>0.00000</td>\n",
       "      <td>0.1200</td>\n",
       "      <td>0.638</td>\n",
       "      <td>80.511</td>\n",
       "      <td>pop</td>\n",
       "    </tr>\n",
       "  </tbody>\n",
       "</table>\n",
       "</div>"
      ],
      "text/plain": [
       "   danceability  energy  key  loudness  mode  speechiness  acousticness  \\\n",
       "0         0.768   0.678    2    -5.604     1       0.0505       0.00838   \n",
       "1         0.673   0.729    6    -4.879     1       0.0496       0.08300   \n",
       "2         0.735   0.689    7    -5.410     0       0.0513       0.00381   \n",
       "3         0.774   0.792   10    -4.021     1       0.0523       0.05100   \n",
       "4         0.829   0.512    6    -5.865     0       0.1870       0.49200   \n",
       "\n",
       "   instrumentalness  liveness  valence    tempo genre  \n",
       "0           0.00000    0.0596    0.706   85.025   pop  \n",
       "1           0.00000    0.1000    0.675  122.023   pop  \n",
       "2           0.00146    0.4090    0.710  116.940   pop  \n",
       "3           0.00000    0.1550    0.507  122.062   pop  \n",
       "4           0.00000    0.1200    0.638   80.511   pop  "
      ]
     },
     "execution_count": 65,
     "metadata": {},
     "output_type": "execute_result"
    }
   ],
   "source": [
    "df.head()"
   ]
  },
  {
   "cell_type": "markdown",
   "metadata": {},
   "source": [
    "## Feature Information \n",
    "\n",
    "Reference: https://developer.spotify.com/documentation/web-api/reference/#/operations/get-audio-features\n",
    "\n",
    "* **danceability** *(float)* = Danceability describes how suitable a track is for dancing based on a combination of musical elements including tempo, rhythm stability, beat strength, and overall regularity. A value of 0.0 is least danceable and 1.0 is most danceable.\n",
    "\n",
    "* **energy** *(float)* = Energy is a measure from 0.0 to 1.0 and represents a perceptual measure of intensity and activity. Perceptual features contributing to this attribute include dynamic range, perceived loudness, timbre, onset rate, and general entropy.\n",
    "\n",
    "* **key** *(integer)* = The key the track is in. Integers map to pitches using standard Pitch Class notation. E.g. 0 = C, 1 = C♯/D♭, 2 = D, and so on. If no key was detected, the value is -1. Between -1 and 11. \n",
    "\n",
    "* **loudness** *(float)* = The overall loudness of a track in decibels (dB). Loudness values are averaged across the entire track and are useful for comparing relative loudness of tracks. Loudness is the quality of a sound that is the primary psychological correlate of physical strength (amplitude). Values typically range between -60 and 0 db.\n",
    "\n",
    "* **mode** *(integer)* = Mode indicates the modality (major or minor) of a track, the type of scale from which its melodic content is derived. Major is represented by 1 and minor is 0.\n",
    "\n",
    "* **speechiness** *(float)* = Speechiness detects the presence of spoken words in a track. The more exclusively speech-like the recording (e.g. talk show, audio book, poetry), the closer to 1.0 the attribute value. Values above 0.66 describe tracks that are probably made entirely of spoken words. Values between 0.33 and 0.66 describe tracks that may contain both music and speech, either in sections or layered, including such cases as rap music. Values below 0.33 most likely represent music and other non-speech-like tracks.\n",
    "\n",
    "* **acousticness** (float) = A confidence measure from 0.0 to 1.0 of whether the track is acoustic. 1.0 represents high confidence the track is acoustic.\n",
    "\n",
    "* **instrumentalness** *(float)* = Predicts whether a track contains no vocals. \"Ooh\" and \"aah\" sounds are treated as instrumental in this context. Rap or spoken word tracks are clearly \"vocal\". The closer the instrumentalness value is to 1.0, the greater likelihood the track contains no vocal content. Values above 0.5 are intended to represent instrumental tracks, but confidence is higher as the value approaches 1.0.\n",
    "    \n",
    "* **liveness** *(float)* = Detects the presence of an audience in the recording. Higher liveness values represent an increased probability that the track was performed live. A value above 0.8 provides strong likelihood that the track is live.\n",
    "\n",
    "* **valence** *(float)* = A measure from 0.0 to 1.0 describing the musical positiveness conveyed by a track. Tracks with high valence sound more positive (e.g. happy, cheerful, euphoric), while tracks with low valence sound more negative (e.g. sad, depressed, angry).\n",
    "\n",
    "* **tempo** (float) = The overall estimated tempo of a track in beats per minute (BPM). In musical terminology, tempo is the speed or pace of a given piece and derives directly from the average beat duration."
   ]
  },
  {
   "cell_type": "markdown",
   "metadata": {},
   "source": [
    "## Exploratary Data Analysis"
   ]
  },
  {
   "cell_type": "code",
   "execution_count": 66,
   "metadata": {},
   "outputs": [
    {
     "data": {
      "image/png": "[encoded data removed]",
      "text/plain": [
       "<Figure size 1152x648 with 2 Axes>"
      ]
     },
     "metadata": {
      "needs_background": "light"
     },
     "output_type": "display_data"
    }
   ],
   "source": [
    "confusion_matr = df.corr()\n",
    "plt.figure(figsize = (16, 9))\n",
    "sns.heatmap(confusion_matr, cmap=\"Greens\", annot=True, \n",
    "            xticklabels = df.columns,\n",
    "           yticklabels= df.columns);"
   ]
  },
  {
   "cell_type": "markdown",
   "metadata": {},
   "source": [
    "## Pre-Process Data"
   ]
  },
  {
   "cell_type": "code",
   "execution_count": 67,
   "metadata": {},
   "outputs": [],
   "source": [
    "from sklearn import preprocessing\n",
    "\n",
    "le = preprocessing.LabelEncoder()\n",
    "le.fit(df['genre'])\n",
    "y_true = df['genre']\n",
    "y = le.transform(df[\"genre\"])\n",
    "Y = le.transform(df[\"genre\"])\n",
    "X = df.iloc[:, 0:11] \n",
    "\n",
    "scaled = preprocessing.MinMaxScaler().fit_transform(X)\n",
    "X = pd.DataFrame(scaled, columns = X.columns)"
   ]
  },
  {
   "cell_type": "markdown",
   "metadata": {},
   "source": [
    "## Split into Training and Testing "
   ]
  },
  {
   "cell_type": "code",
   "execution_count": 68,
   "metadata": {},
   "outputs": [
    {
     "name": "stdout",
     "output_type": "stream",
     "text": [
      "The size of training data is: 4323\n",
      "The size of testing data is: 1452\n"
     ]
    }
   ],
   "source": [
    "from sklearn.model_selection import train_test_split\n",
    "train_x, test_x, train_y, test_y = train_test_split(X, y)\n",
    "print(f\"The size of training data is: {train_x.size}\")\n",
    "print(f\"The size of testing data is: {test_x.size}\")"
   ]
  },
  {
   "cell_type": "markdown",
   "metadata": {},
   "source": [
    "## Try Machine Learning Algorithms"
   ]
  },
  {
   "cell_type": "code",
   "execution_count": 69,
   "metadata": {},
   "outputs": [],
   "source": [
    "from sklearn.model_selection import KFold\n",
    "kfold = KFold(n_splits=6, shuffle=True, random_state=10)"
   ]
  },
  {
   "cell_type": "code",
   "execution_count": 70,
   "metadata": {},
   "outputs": [],
   "source": [
    "from sklearn.model_selection import GridSearchCV\n",
    "\n",
    "def hyperparameter_search(parameters, classifier, train_x, train_y):\n",
    "    grid = GridSearchCV(estimator=classifier, param_grid=parameters, cv=kfold, scoring='accuracy')\n",
    "    grid.fit(train_x, train_y)\n",
    "    return grid"
   ]
  },
  {
   "cell_type": "code",
   "execution_count": 71,
   "metadata": {},
   "outputs": [
    {
     "name": "stdout",
     "output_type": "stream",
     "text": [
      "0.6237762237762238\n",
      "KNeighborsClassifier(n_neighbors=3)\n",
      "{'n_neighbors': 3}\n"
     ]
    }
   ],
   "source": [
    "from sklearn.model_selection import GridSearchCV\n",
    "from sklearn.neighbors import KNeighborsClassifier\n",
    "hp = [{'n_neighbors': [2, 3, 4, 6, 8, 10, 15, 30, 35]}]\n",
    "\n",
    "knn = hyperparameter_search(hp, KNeighborsClassifier(), train_x, train_y)\n",
    "print(knn.best_score_)\n",
    "print(knn.best_estimator_)\n",
    "print(knn.best_params_)"
   ]
  },
  {
   "cell_type": "code",
   "execution_count": 72,
   "metadata": {},
   "outputs": [
    {
     "name": "stdout",
     "output_type": "stream",
     "text": [
      "0.6743978243978245\n",
      "DecisionTreeClassifier(max_depth=5)\n",
      "{'max_depth': 5}\n"
     ]
    }
   ],
   "source": [
    "from sklearn import tree\n",
    "from sklearn.tree import DecisionTreeClassifier\n",
    "\n",
    "hp = [{'max_depth': [None, 5, 10, 15, 20]}]\n",
    "dt = hyperparameter_search(hp, DecisionTreeClassifier(), train_x, train_y)\n",
    "\n",
    "print(dt.best_score_)\n",
    "print(dt.best_estimator_)\n",
    "print(dt.best_params_)"
   ]
  },
  {
   "cell_type": "code",
   "execution_count": 73,
   "metadata": {},
   "outputs": [
    {
     "name": "stdout",
     "output_type": "stream",
     "text": [
      "0.7455710955710956\n",
      "RandomForestClassifier(n_estimators=1500, random_state=0)\n",
      "{'max_depth': None, 'n_estimators': 1500, 'random_state': 0}\n"
     ]
    }
   ],
   "source": [
    "from sklearn.ensemble import RandomForestClassifier\n",
    "\n",
    "hp = [{'n_estimators': [10,100, 200, 1000, 1500, 2000], 'max_depth': [None], 'random_state': [0]}]\n",
    "rfc = hyperparameter_search(hp, RandomForestClassifier(), train_x, train_y)\n",
    "\n",
    "print(rfc.best_score_)\n",
    "print(rfc.best_estimator_)\n",
    "print(rfc.best_params_)"
   ]
  },
  {
   "cell_type": "code",
   "execution_count": 76,
   "metadata": {},
   "outputs": [
    {
     "name": "stdout",
     "output_type": "stream",
     "text": [
      "0.7354700854700855\n",
      "SVC(decision_function_shape='ovo', kernel='poly')\n",
      "{'decision_function_shape': 'ovo', 'kernel': 'poly'}\n"
     ]
    }
   ],
   "source": [
    "from sklearn.svm import SVC\n",
    "\n",
    "hp = [{'kernel' : ['linear', 'poly', 'rbf', 'sigmoid'], 'decision_function_shape': ['ovo']}]\n",
    "svc = hyperparameter_search(hp, SVC(), train_x, train_y)\n",
    "\n",
    "print(svc.best_score_)\n",
    "print(svc.best_estimator_)\n",
    "print(svc.best_params_)"
   ]
  },
  {
   "cell_type": "code",
   "execution_count": 77,
   "metadata": {},
   "outputs": [
    {
     "name": "stdout",
     "output_type": "stream",
     "text": [
      "0.6361693861693861\n",
      "LogisticRegression(solver='liblinear')\n",
      "{'solver': 'liblinear'}\n"
     ]
    }
   ],
   "source": [
    "from sklearn.linear_model import LogisticRegression\n",
    "\n",
    "hp = [{'solver' : ['liblinear']}]\n",
    "logreg = hyperparameter_search(hp, LogisticRegression(), train_x, train_y)\n",
    "\n",
    "print(logreg.best_score_)\n",
    "print(logreg.best_estimator_)\n",
    "print(logreg.best_params_)"
   ]
  },
  {
   "cell_type": "code",
   "execution_count": 79,
   "metadata": {},
   "outputs": [
    {
     "name": "stdout",
     "output_type": "stream",
     "text": [
      "0.7405594405594406\n",
      "MLPClassifier(alpha=1e-09, hidden_layer_sizes=(500, 10), max_iter=10000,\n",
      "              random_state=1)\n",
      "{'alpha': 1e-09, 'hidden_layer_sizes': (500, 10), 'max_iter': 10000, 'random_state': 1}\n"
     ]
    }
   ],
   "source": [
    "from sklearn.neural_network import MLPClassifier\n",
    "\n",
    "hp = [{'alpha' : [1e-8, 1e-9], 'random_state': [1], 'hidden_layer_sizes': [(400,5), (500,10)], 'max_iter': [10000]}]\n",
    "nn = hyperparameter_search(hp, MLPClassifier(), train_x, train_y)\n",
    "\n",
    "print(nn.best_score_)\n",
    "print(nn.best_estimator_)\n",
    "print(nn.best_params_)"
   ]
  },
  {
   "cell_type": "markdown",
   "metadata": {},
   "source": [
    "## ANALYSIS"
   ]
  },
  {
   "cell_type": "code",
   "execution_count": 80,
   "metadata": {},
   "outputs": [
    {
     "name": "stdout",
     "output_type": "stream",
     "text": [
      "0.7272727272727273\n"
     ]
    }
   ],
   "source": [
    "preds = rfc.predict(test_x)\n",
    "test_acc = len(preds[preds == test_y]) / len(preds)\n",
    "print(test_acc)"
   ]
  },
  {
   "cell_type": "code",
   "execution_count": 75,
   "metadata": {},
   "outputs": [
    {
     "data": {
      "image/png": "[encoded data removed]",
      "text/plain": [
       "<Figure size 1152x648 with 2 Axes>"
      ]
     },
     "metadata": {
      "needs_background": "light"
     },
     "output_type": "display_data"
    }
   ],
   "source": [
    "from sklearn.metrics import confusion_matrix\n",
    "import seaborn as sns\n",
    "preds = rfc.predict(test_x)\n",
    "confusion_matr = confusion_matrix(le.inverse_transform(test_y), le.inverse_transform(preds))\n",
    "plt.figure(figsize = (16, 9))\n",
    "sns.heatmap(confusion_matr, cmap=\"Greens\", annot=True, \n",
    "            xticklabels = le.classes_,\n",
    "           yticklabels= le.classes_);"
   ]
  },
  {
   "cell_type": "code",
   "execution_count": 81,
   "metadata": {},
   "outputs": [
    {
     "data": {
      "text/html": [
       "\n",
       "    <style>\n",
       "    table.eli5-weights tr:hover {\n",
       "        filter: brightness(85%);\n",
       "    }\n",
       "</style>\n",
       "\n",
       "\n",
       "\n",
       "    \n",
       "\n",
       "    \n",
       "\n",
       "    \n",
       "\n",
       "    \n",
       "\n",
       "    \n",
       "\n",
       "    \n",
       "\n",
       "\n",
       "    \n",
       "\n",
       "    \n",
       "\n",
       "    \n",
       "\n",
       "    \n",
       "\n",
       "    \n",
       "\n",
       "    \n",
       "\n",
       "\n",
       "    \n",
       "\n",
       "    \n",
       "\n",
       "    \n",
       "\n",
       "    \n",
       "\n",
       "    \n",
       "        <table class=\"eli5-weights eli5-feature-importances\" style=\"border-collapse: collapse; border: none; margin-top: 0em; table-layout: auto;\">\n",
       "    <thead>\n",
       "    <tr style=\"border: none;\">\n",
       "        <th style=\"padding: 0 1em 0 0.5em; text-align: right; border: none;\">Weight</th>\n",
       "        <th style=\"padding: 0 0.5em 0 0.5em; text-align: left; border: none;\">Feature</th>\n",
       "    </tr>\n",
       "    </thead>\n",
       "    <tbody>\n",
       "    \n",
       "        <tr style=\"background-color: hsl(120, 100.00%, 80.00%); border: none;\">\n",
       "            <td style=\"padding: 0 1em 0 0.5em; text-align: right; border: none;\">\n",
       "                0.1015\n",
       "                \n",
       "                    &plusmn; 0.0688\n",
       "                \n",
       "            </td>\n",
       "            <td style=\"padding: 0 0.5em 0 0.5em; text-align: left; border: none;\">\n",
       "                loudness\n",
       "            </td>\n",
       "        </tr>\n",
       "    \n",
       "        <tr style=\"background-color: hsl(120, 100.00%, 83.25%); border: none;\">\n",
       "            <td style=\"padding: 0 1em 0 0.5em; text-align: right; border: none;\">\n",
       "                0.0788\n",
       "                \n",
       "                    &plusmn; 0.0366\n",
       "                \n",
       "            </td>\n",
       "            <td style=\"padding: 0 0.5em 0 0.5em; text-align: left; border: none;\">\n",
       "                instrumentalness\n",
       "            </td>\n",
       "        </tr>\n",
       "    \n",
       "        <tr style=\"background-color: hsl(120, 100.00%, 85.82%); border: none;\">\n",
       "            <td style=\"padding: 0 1em 0 0.5em; text-align: right; border: none;\">\n",
       "                0.0621\n",
       "                \n",
       "                    &plusmn; 0.0201\n",
       "                \n",
       "            </td>\n",
       "            <td style=\"padding: 0 0.5em 0 0.5em; text-align: left; border: none;\">\n",
       "                danceability\n",
       "            </td>\n",
       "        </tr>\n",
       "    \n",
       "        <tr style=\"background-color: hsl(120, 100.00%, 86.80%); border: none;\">\n",
       "            <td style=\"padding: 0 1em 0 0.5em; text-align: right; border: none;\">\n",
       "                0.0561\n",
       "                \n",
       "                    &plusmn; 0.0353\n",
       "                \n",
       "            </td>\n",
       "            <td style=\"padding: 0 0.5em 0 0.5em; text-align: left; border: none;\">\n",
       "                speechiness\n",
       "            </td>\n",
       "        </tr>\n",
       "    \n",
       "        <tr style=\"background-color: hsl(120, 100.00%, 87.56%); border: none;\">\n",
       "            <td style=\"padding: 0 1em 0 0.5em; text-align: right; border: none;\">\n",
       "                0.0515\n",
       "                \n",
       "                    &plusmn; 0.0726\n",
       "                \n",
       "            </td>\n",
       "            <td style=\"padding: 0 0.5em 0 0.5em; text-align: left; border: none;\">\n",
       "                acousticness\n",
       "            </td>\n",
       "        </tr>\n",
       "    \n",
       "        <tr style=\"background-color: hsl(120, 100.00%, 92.34%); border: none;\">\n",
       "            <td style=\"padding: 0 1em 0 0.5em; text-align: right; border: none;\">\n",
       "                0.0258\n",
       "                \n",
       "                    &plusmn; 0.0281\n",
       "                \n",
       "            </td>\n",
       "            <td style=\"padding: 0 0.5em 0 0.5em; text-align: left; border: none;\">\n",
       "                energy\n",
       "            </td>\n",
       "        </tr>\n",
       "    \n",
       "        <tr style=\"background-color: hsl(120, 100.00%, 95.09%); border: none;\">\n",
       "            <td style=\"padding: 0 1em 0 0.5em; text-align: right; border: none;\">\n",
       "                0.0136\n",
       "                \n",
       "                    &plusmn; 0.0278\n",
       "                \n",
       "            </td>\n",
       "            <td style=\"padding: 0 0.5em 0 0.5em; text-align: left; border: none;\">\n",
       "                tempo\n",
       "            </td>\n",
       "        </tr>\n",
       "    \n",
       "        <tr style=\"background-color: hsl(120, 100.00%, 96.31%); border: none;\">\n",
       "            <td style=\"padding: 0 1em 0 0.5em; text-align: right; border: none;\">\n",
       "                0.0091\n",
       "                \n",
       "                    &plusmn; 0.0261\n",
       "                \n",
       "            </td>\n",
       "            <td style=\"padding: 0 0.5em 0 0.5em; text-align: left; border: none;\">\n",
       "                valence\n",
       "            </td>\n",
       "        </tr>\n",
       "    \n",
       "        <tr style=\"background-color: hsl(0, 100.00%, 97.22%); border: none;\">\n",
       "            <td style=\"padding: 0 1em 0 0.5em; text-align: right; border: none;\">\n",
       "                -0.0061\n",
       "                \n",
       "                    &plusmn; 0.0223\n",
       "                \n",
       "            </td>\n",
       "            <td style=\"padding: 0 0.5em 0 0.5em; text-align: left; border: none;\">\n",
       "                liveness\n",
       "            </td>\n",
       "        </tr>\n",
       "    \n",
       "        <tr style=\"background-color: hsl(0, 100.00%, 96.31%); border: none;\">\n",
       "            <td style=\"padding: 0 1em 0 0.5em; text-align: right; border: none;\">\n",
       "                -0.0091\n",
       "                \n",
       "                    &plusmn; 0.0148\n",
       "                \n",
       "            </td>\n",
       "            <td style=\"padding: 0 0.5em 0 0.5em; text-align: left; border: none;\">\n",
       "                key\n",
       "            </td>\n",
       "        </tr>\n",
       "    \n",
       "        <tr style=\"background-color: hsl(0, 100.00%, 93.65%); border: none;\">\n",
       "            <td style=\"padding: 0 1em 0 0.5em; text-align: right; border: none;\">\n",
       "                -0.0197\n",
       "                \n",
       "                    &plusmn; 0.0227\n",
       "                \n",
       "            </td>\n",
       "            <td style=\"padding: 0 0.5em 0 0.5em; text-align: left; border: none;\">\n",
       "                mode\n",
       "            </td>\n",
       "        </tr>\n",
       "    \n",
       "    \n",
       "    </tbody>\n",
       "</table>\n",
       "    \n",
       "\n",
       "    \n",
       "\n",
       "\n",
       "    \n",
       "\n",
       "    \n",
       "\n",
       "    \n",
       "\n",
       "    \n",
       "\n",
       "    \n",
       "\n",
       "    \n",
       "\n",
       "\n",
       "\n"
      ],
      "text/plain": [
       "<IPython.core.display.HTML object>"
      ]
     },
     "execution_count": 81,
     "metadata": {},
     "output_type": "execute_result"
    }
   ],
   "source": [
    "import eli5\n",
    "from eli5.sklearn import PermutationImportance\n",
    "\n",
    "perm = PermutationImportance(estimator=rfc, random_state=1)\n",
    "perm.fit(test_x, test_y)\n",
    "\n",
    "eli5.show_weights(estimator=perm, feature_names = test_x.columns.tolist())"
   ]
  },
  {
   "cell_type": "markdown",
   "metadata": {},
   "source": [
    "## UNSUPERVISED LEARNING"
   ]
  },
  {
   "cell_type": "code",
   "execution_count": 82,
   "metadata": {},
   "outputs": [
    {
     "data": {
      "image/png": "[encoded data removed]",
      "text/plain": [
       "<Figure size 432x288 with 1 Axes>"
      ]
     },
     "metadata": {
      "needs_background": "light"
     },
     "output_type": "display_data"
    }
   ],
   "source": [
    "from sklearn.cluster import KMeans\n",
    "wcss=[]\n",
    "\n",
    "for i in range(1,20): \n",
    "    kmeans = KMeans(n_clusters=i, init ='k-means++', max_iter=300,  n_init=10,random_state=0 )\n",
    "    kmeans.fit(train_x)\n",
    "    wcss.append(kmeans.inertia_)\n",
    "\n",
    "plt.plot(range(1,20),wcss)\n",
    "plt.title('The Elbow Method Graph')\n",
    "plt.xlabel('Number of clusters')\n",
    "plt.ylabel('WCSS')\n",
    "plt.show()"
   ]
  },
  {
   "cell_type": "code",
   "execution_count": 83,
   "metadata": {},
   "outputs": [
    {
     "data": {
      "text/plain": [
       "array([4, 1, 2, 1, 2, 4, 4, 2, 2, 2, 2, 2, 2, 1, 1, 4, 2, 1, 1, 2, 1, 2,\n",
       "       2, 1, 1, 4, 1, 2, 2, 4, 4, 2, 4, 4, 1, 2, 1, 4, 2, 2, 2, 4, 4, 1,\n",
       "       2, 1, 2, 2, 2, 1, 4, 2, 1, 4, 2, 1, 2, 4, 4, 1, 4, 1, 4, 2, 1, 2,\n",
       "       1, 1, 4, 4, 2, 4, 4, 2, 2, 1, 2, 4, 4, 1, 1, 4, 4, 2, 2, 2, 1, 2,\n",
       "       2, 1, 2, 4, 2, 4, 1, 1, 1, 1, 2, 1, 2, 2, 4, 2, 4, 2, 1, 1, 2, 4,\n",
       "       4, 4, 1, 1, 1, 4, 4, 4, 1, 4, 4, 4, 4, 4, 1, 2, 4, 2, 2, 1, 1, 1,\n",
       "       1, 2, 1, 2, 4, 4, 1, 1, 4, 2, 1, 4, 2, 2, 4, 2, 4, 1, 4, 1, 2, 1,\n",
       "       2, 2, 1, 1, 2, 2, 2, 4, 4, 4, 4, 2, 2, 4, 4, 4, 2, 4, 4, 4, 2, 4,\n",
       "       1, 2, 2, 4, 1, 2, 4, 4, 1, 4, 2, 4, 4, 2, 1, 4, 4, 2, 1, 2, 2, 1,\n",
       "       4, 4, 4, 2, 4, 4, 2, 4, 4, 4, 4, 2, 3, 3, 3, 0, 3, 3, 0, 0, 3, 3,\n",
       "       0, 3, 3, 0, 3, 0, 0, 3, 0, 3, 3, 3, 0, 3, 3, 3, 3, 0, 3, 3, 0, 3,\n",
       "       0, 0, 0, 3, 3, 3, 3, 0, 3, 0, 0, 0, 3, 3, 3, 3, 3, 0, 3, 3, 4, 0,\n",
       "       3, 0, 0, 3, 3, 3, 0, 3, 3, 0, 3, 3, 3, 3, 3, 3, 3, 3, 3, 3, 0, 0,\n",
       "       3, 3, 0, 3, 3, 3, 3, 3, 3, 3, 3, 3, 3, 3, 3, 0, 0, 0, 3, 3, 3, 3,\n",
       "       3, 3, 3, 3, 3, 0, 0, 1, 4, 4, 1, 2, 4, 1, 1, 1, 1, 4, 4, 1, 4, 4,\n",
       "       1, 1, 1, 4, 4, 4, 1, 1, 4, 1, 4, 1, 4, 4, 1, 1, 1, 4, 1, 4, 4, 2,\n",
       "       4, 1, 1, 1, 1, 1, 4, 1, 1, 4, 1, 4, 4, 4, 4, 1, 2, 4, 1, 4, 4, 4,\n",
       "       4, 4, 4, 1, 4, 4, 4, 4, 1, 4, 4, 1, 1, 4, 4, 4, 1, 4, 4, 1, 4, 4,\n",
       "       1, 4, 4, 1, 2, 1, 4, 2, 1, 1, 1, 1, 4, 1, 2, 4, 2, 2, 2, 4, 1, 4,\n",
       "       1, 1, 4, 2, 1, 1, 1, 4, 2, 4, 2, 3, 1, 4, 2, 2, 4, 4, 2, 2, 4, 4,\n",
       "       4, 4, 1, 2, 4, 2, 4, 3, 2, 2, 2, 1, 4, 2, 2, 2, 4, 2, 2, 4, 1, 2,\n",
       "       1, 4, 4, 2, 4, 2, 1, 1, 4, 1, 4, 4, 1, 2, 1, 4, 4, 2, 1, 1, 4, 4,\n",
       "       2, 4, 2, 4, 4, 4, 0, 1, 4, 1, 4, 4, 2, 4, 1, 4, 4, 1, 1, 2, 1, 4,\n",
       "       2, 3, 3, 2, 4, 2, 2, 1, 4, 2, 4, 2, 2, 2, 1, 4, 2, 2, 4],\n",
       "      dtype=int32)"
      ]
     },
     "execution_count": 83,
     "metadata": {},
     "output_type": "execute_result"
    }
   ],
   "source": [
    "from sklearn.cluster import KMeans\n",
    "kmeans = KMeans(n_clusters=5, random_state=0).fit_predict(X)\n",
    "kmeans"
   ]
  },
  {
   "cell_type": "code",
   "execution_count": 84,
   "metadata": {},
   "outputs": [
    {
     "name": "stdout",
     "output_type": "stream",
     "text": [
      "[[0.030303030303030304, 0.9696969696969697, 0.0, 0.0, 0.0], [0.18253968253968253, 0.0, 0.35714285714285715, 0.25396825396825395, 0.20634920634920634], [0.3, 0.0, 0.075, 0.35833333333333334, 0.26666666666666666], [0.05263157894736842, 0.9473684210526315, 0.0, 0.0, 0.0], [0.2411764705882353, 0.0058823529411764705, 0.3, 0.17647058823529413, 0.27647058823529413]]\n"
     ]
    },
    {
     "data": {
      "image/png": "[encoded data removed]",
      "text/plain": [
       "<Figure size 1152x648 with 2 Axes>"
      ]
     },
     "metadata": {
      "needs_background": "light"
     },
     "output_type": "display_data"
    }
   ],
   "source": [
    "c_matrix = []\n",
    "for x in range(5):\n",
    "    true_label = Y[kmeans == x]\n",
    "    arr = []\n",
    "    for y in range(5):\n",
    "        correct_label = true_label[np.where(true_label == y)]\n",
    "        arr.append(len(correct_label)/len(true_label))\n",
    "    c_matrix.append(arr)\n",
    "\n",
    "print(c_matrix)\n",
    "plt.figure(figsize = (16, 9))\n",
    "sns.heatmap(c_matrix, cmap=\"Greens\", annot=True, \n",
    "            xticklabels = le.classes_,\n",
    "           yticklabels= [y for y in range(5)]);"
   ]
  },
  {
   "cell_type": "code",
   "execution_count": null,
   "metadata": {},
   "outputs": [],
   "source": []
  }
 ],
 "metadata": {
  "kernelspec": {
   "display_name": "Python 3",
   "language": "python",
   "name": "python3"
  },
  "language_info": {
   "codemirror_mode": {
    "name": "ipython",
    "version": 3
   },
   "file_extension": ".py",
   "mimetype": "text/x-python",
   "name": "python",
   "nbconvert_exporter": "python",
   "pygments_lexer": "ipython3",
   "version": "3.8.3"
  }
 },
 "nbformat": 4,
 "nbformat_minor": 4
}
