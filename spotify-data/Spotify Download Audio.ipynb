{
 "cells": [
  {
   "cell_type": "code",
   "execution_count": 85,
   "metadata": {},
   "outputs": [],
   "source": [
    "import spotipy\n",
    "from spotipy.oauth2 import SpotifyOAuth\n",
    "from pprint import pprint\n",
    "import pandas as pd \n",
    "from random import sample\n",
    "from sklearn.metrics import confusion_matrix\n",
    "import seaborn as sns\n",
    "import matplotlib.pyplot as plt\n",
    "%matplotlib inline\n",
    "import numpy as np\n",
    "import requests\n",
    "import os\n",
    "import librosa"
   ]
  },
  {
   "cell_type": "code",
   "execution_count": 19,
   "metadata": {},
   "outputs": [],
   "source": [
    "sp = spotipy.Spotify(auth_manager=SpotifyOAuth(client_id=\"INSERT ID\",\n",
    "                                               client_secret=\"INSERT SECRET\",\n",
    "                                               redirect_uri=\"http://localhost:8888/callback\",\n",
    "                                               scope=\"user-library-read\"))"
   ]
  },
  {
   "cell_type": "code",
   "execution_count": 20,
   "metadata": {},
   "outputs": [],
   "source": [
    "def getTracks(url):\n",
    "    tracks = []\n",
    "    response = sp.playlist_items(url,\n",
    "                                    offset=0,\n",
    "                                    fields='items.track.id, items.track.preview_url, total',\n",
    "                                    additional_types=['track'])\n",
    "    if len(response['items']) == 0:\n",
    "        return null \n",
    "\n",
    "    for item in response['items']:\n",
    "        tracks.append(item['track'])\n",
    "\n",
    "    return tracks"
   ]
  },
  {
   "cell_type": "code",
   "execution_count": 21,
   "metadata": {},
   "outputs": [],
   "source": [
    "playlists = {\n",
    "    'pop': [\"https://open.spotify.com/playlist/37i9dQZF1DX5gQonLbZD9s?si=30767127b8f94469\"],\n",
    "    'rock': [\"https://open.spotify.com/playlist/37i9dQZF1DXcF6B6QPhFDv?si=b03e02334d354bf8\"],\n",
    "    'classical': [\"https://open.spotify.com/playlist/37i9dQZF1DWWEJlAGA9gs0?si=96c90b5d91994be8\"],\n",
    "    'country': [\"https://open.spotify.com/playlist/37i9dQZF1DX1lVhptIYRda?si=598d4d9cae29480a\"]\n",
    "}"
   ]
  },
  {
   "cell_type": "code",
   "execution_count": 22,
   "metadata": {},
   "outputs": [],
   "source": [
    "tracks = {}\n",
    "for genre in playlists: \n",
    "    for playlist in playlists[genre]: \n",
    "        if not genre in tracks: \n",
    "            tracks[genre] = getTracks(playlist)\n",
    "        else: \n",
    "            tracks[genre].extend(getTracks(playlist))"
   ]
  },
  {
   "cell_type": "code",
   "execution_count": 24,
   "metadata": {},
   "outputs": [
    {
     "name": "stdout",
     "output_type": "stream",
     "text": [
      "The number of tracks per category: 50\n",
      "The number of tracks: 200\n"
     ]
    }
   ],
   "source": [
    "# crop number of tracks \n",
    "lens = []\n",
    "for genre in tracks:\n",
    "    lens.append(len(tracks[genre]))\n",
    "\n",
    "size = min(lens)\n",
    "\n",
    "for genre in tracks: \n",
    "    tracks[genre] = sample(tracks[genre], size)\n",
    "\n",
    "print(f\"The number of tracks per category: {size}\")\n",
    "total = len(tracks[\"pop\"]) + len(tracks[\"rock\"]) + len(tracks[\"classical\"]) + len(tracks[\"country\"])\n",
    "print(f\"The number of tracks: {total}\")"
   ]
  },
  {
   "cell_type": "code",
   "execution_count": 28,
   "metadata": {},
   "outputs": [
    {
     "data": {
      "text/plain": [
       "200"
      ]
     },
     "execution_count": 28,
     "metadata": {},
     "output_type": "execute_result"
    }
   ],
   "source": [
    "features = []\n",
    "\n",
    "for genre in tracks:\n",
    "    for track in tracks[genre]: \n",
    "        track[\"genre\"] = genre\n",
    "    features.extend(tracks[genre])\n",
    "len(features)"
   ]
  },
  {
   "cell_type": "code",
   "execution_count": 31,
   "metadata": {},
   "outputs": [
    {
     "name": "stdout",
     "output_type": "stream",
     "text": [
      "(200, 3)\n",
      "(172, 3)\n"
     ]
    }
   ],
   "source": [
    "df = pd.DataFrame(features)\n",
    "print(df.shape)\n",
    "df.drop_duplicates(subset=\"id\", inplace=True)\n",
    "df.dropna(subset=[\"preview_url\"], inplace=True)\n",
    "print(df.shape)"
   ]
  },
  {
   "cell_type": "code",
   "execution_count": 32,
   "metadata": {},
   "outputs": [
    {
     "name": "stdout",
     "output_type": "stream",
     "text": [
      "43\n",
      "8\n",
      "48\n",
      "13\n",
      "35\n",
      "0\n",
      "46\n",
      "11\n",
      "The number of tracks per category: 35\n",
      "The number of tracks: 140\n"
     ]
    }
   ],
   "source": [
    "sizes = []\n",
    "for genre in playlists:\n",
    "    sizes.append(df[df[\"genre\"] == genre].shape[0])\n",
    "\n",
    "size = min(sizes)\n",
    "\n",
    "#new_data = []\n",
    "for genre in tracks: \n",
    "    #print(df[df[\"genre\"] == genre].shape[0])\n",
    "    diff = df[df[\"genre\"] == genre].shape[0] - size\n",
    "    #print(diff)\n",
    "    drop_indices = np.random.choice(df[df[\"genre\"] == genre].index, diff, replace=False)\n",
    "    df.drop(drop_indices, inplace=True)\n",
    "\n",
    "#df = pd.DataFrame(new_data)\n",
    "print(f\"The number of tracks per category: {size}\")\n",
    "print(f\"The number of tracks: {df.shape[0]}\")\n"
   ]
  },
  {
   "cell_type": "code",
   "execution_count": 89,
   "metadata": {},
   "outputs": [
    {
     "data": {
      "text/plain": [
       "'https://p.scdn.co/mp3-preview/c424249e27d2bc82982e8b0ce3fc1d0d63cdaf83?cid=f3a52efb14cf42a3840d1c04b283ca91'"
      ]
     },
     "execution_count": 89,
     "metadata": {},
     "output_type": "execute_result"
    }
   ],
   "source": [
    "df.iloc[0,1]"
   ]
  },
  {
   "cell_type": "code",
   "execution_count": 74,
   "metadata": {},
   "outputs": [],
   "source": [
    "def download_mp3(url, directory, name):\n",
    "    print(f\"Downloading {name}\")\n",
    "    r = requests.get(url)\n",
    "    open(os.path.join(directory, name + \".mp3\"), 'wb').write(r.content)\n",
    "\n",
    "#     download_mp3(x['preview_url'], \"/Users/tanviwagle/Desktop/Genre Detection/python-download\", x['id'"
   ]
  },
  {
   "cell_type": "markdown",
   "metadata": {},
   "source": [
    "## Download Audio Files"
   ]
  },
  {
   "cell_type": "code",
   "execution_count": 75,
   "metadata": {},
   "outputs": [
    {
     "name": "stdout",
     "output_type": "stream",
     "text": [
      "Downloading 7xbWAw3LMgRMn4omR5yVn3\n",
      "Downloading 05qq6mwIbG1ZsQhlMKyDwN\n",
      "Downloading 4u4NyuceXP7Uzh7XFJKCr1\n",
      "Downloading 1jpnnxTKqfvSWl6MccJjAd\n",
      "Downloading 142oChZWeBCxPMlY7g7cM2\n",
      "Downloading 5xTtaWoae3wi06K5WfVUUH\n",
      "Downloading 6FRxFke9VsjXmibGgSeKki\n",
      "Downloading 0fQfJFfngYfG26560HLMLN\n",
      "Downloading 37BZB0z9T8Xu7U3e65qxFy\n",
      "Downloading 3z6XUommYDWPHeFhmhhT6j\n",
      "Downloading 1raaNykBg1bDnWENUiglUA\n",
      "Downloading 3FeVmId7tL5YN8B7R3imoM\n",
      "Downloading 0Y9qJSwdV2LvPnFmAbNIc8\n",
      "Downloading 0tBbt8CrmxbjRP0pueQkyU\n",
      "Downloading 1p80LdxRV74UKvL8gnD7ky\n",
      "Downloading 5oyHgqf93ZcAZPjCgRyEd7\n",
      "Downloading 6PERP62TejQjgHu81OHxgM\n",
      "Downloading 29fRTIKsJhLUJoldM89GZS\n",
      "Downloading 0Mn3amMRMoabaoTf1Publ4\n",
      "Downloading 5Gu0PDLN4YJeW75PpBSg9p\n",
      "Downloading 3Z8FwOEN59mRMxDCtb8N0A\n",
      "Downloading 3eJH2nAjvNXdmPfBkALiPZ\n",
      "Downloading 4XWaUb7mKRcJR5RPp4IIDr\n",
      "Downloading 6EJiVf7U0p1BBfs0qqeb1f\n",
      "Downloading 0H5fa5efEeedloCGpTvst4\n",
      "Downloading 1RSBK5VWdjPjHEmRhAkS4Q\n",
      "Downloading 7hpJ9tATWb2vztlq99hERP\n",
      "Downloading 18asYwWugKjjsihZ0YvRxO\n",
      "Downloading 12x0zQ2X70OVWsM5X4pg2z\n",
      "Downloading 0mHz9vqcznnfUcLqfQb3kd\n",
      "Downloading 6WrI0LAC5M1Rw2MnX2ZvEg\n",
      "Downloading 72jCZdH0Lhg93z6Z4hBjgj\n",
      "Downloading 07Oz5StQ7GRoygNLaXs2pd\n",
      "Downloading 3xrn9i8zhNZsTtcoWgQEAd\n",
      "Downloading 1KixkQVDUHggZMU9dUobgm\n",
      "Downloading 6m0vqKogDYkJwwwpvNjyJT\n",
      "Downloading 7Eta7z7ofiykxOyk9HVWij\n",
      "Downloading 4MDDOpA7BwGDjYclTmCTVw\n",
      "Downloading 6MRk1DdNtF7OZSVZYtvZyw\n",
      "Downloading 7CGz9zQ07qHQbqMemymj1h\n",
      "Downloading 1QL7nSDZCwZMnbisV4KOXt\n",
      "Downloading 2ppAkaBj4vaL0qsFm1TOKI\n",
      "Downloading 6BvbBevaIuLHffC5Q09ueO\n",
      "Downloading 5rF6YUIlgiat22OT1lWspJ\n",
      "Downloading 6fO5kCic9UU6AFPet7jFBn\n",
      "Downloading 7p58AJeuaFSUHTnPe5NFaf\n",
      "Downloading 5EjlKmbefO401Kra4OoN83\n",
      "Downloading 4xdUk9rp5wOd3ZLwwNfjwd\n",
      "Downloading 2u8NmvhYX6wiviyxJTOhEi\n",
      "Downloading 4un1zMkZQeTvShAIeq7TZw\n",
      "Downloading 3ADDLOa2NjjLFQ7g2FTiYx\n",
      "Downloading 5svL1PkWw8hPEAOdTNLexy\n",
      "Downloading 2gT72HL4Y84K2Mle3miAMJ\n",
      "Downloading 3Ye5icBka8ODjcaEQakPvZ\n",
      "Downloading 7EkWXAI1wn8Ii883ecd9xr\n",
      "Downloading 2ZvxyrNMYKMTazLQI2v9BX\n",
      "Downloading 75IgEto7grPuLZpqr1L1kQ\n",
      "Downloading 2rX97r2QjIXxHYjLAcGpSZ\n",
      "Downloading 2LnsEYFfPwk6ueO2OCBNLA\n",
      "Downloading 4ysafP9rgpNQXYddVsepKW\n",
      "Downloading 3wGVgIe8CvDxGEJEdrAKfh\n",
      "Downloading 68G22FmZ30XgaRh00pKIeV\n",
      "Downloading 3TFtD8GZNw9v6vVWr3hnWy\n",
      "Downloading 2d1MywHy6FwKdzxFuSJnwl\n",
      "Downloading 1EQFOouqdKYdpbNoOHRVO2\n",
      "Downloading 1C4V5YwbuMEcQgsNV3Sapg\n",
      "Downloading 0XHnYbXteyBDfVvk9EGaPu\n",
      "Downloading 69yLIX3dwFMpoAqW1a98O2\n",
      "Downloading 3nkW3TPQjBip1lER4h78NX\n",
      "Downloading 1qykiBzyIdLMbot7iamJGp\n",
      "Downloading 1Xy6MHSaX3IUGGqst6RzYM\n",
      "Downloading 52GmHO5DikTIKc3yBmTTT1\n",
      "Downloading 0jOnZhF75V68VsBObWx2XO\n",
      "Downloading 64ZxBE1ZgK4C0lGljXzDcG\n",
      "Downloading 2nVt0n0aSj3AwZjakMvDHX\n",
      "Downloading 5xbuJuQsTVheVZvX2AJVIv\n",
      "Downloading 5Wj90oTRAxvTUivep2HlUu\n",
      "Downloading 1MiWGSGDC5mGoP3MNclZ7s\n",
      "Downloading 2OHnoGjn6X6kDwzO7Rw0Y9\n",
      "Downloading 408VC5UfnAh3Uhl0RQpbkA\n",
      "Downloading 4wudbbceOZKjRlhTtbHvAs\n",
      "Downloading 2MSgFefjK0T7Iwjvr3OKqV\n",
      "Downloading 3NbAsIxDL0fVgNuCLD152P\n",
      "Downloading 3QqPgzOcv9titKufFR0gsQ\n",
      "Downloading 2fC30Rt5tFa6FA2jNb4fiz\n",
      "Downloading 6VDHdry8ytOL2WWbePDxSD\n",
      "Downloading 7vJhOBgOkXyEJvw1vsU6HB\n",
      "Downloading 2TB6PQkgnw9rrFRK4VOOrC\n",
      "Downloading 2dEbRirkEtImY7HdYxrgRS\n",
      "Downloading 5CfxpBCYwfB17MMgARumHl\n",
      "Downloading 0k6P9cdEA9K3k0ASde2Kof\n",
      "Downloading 04eShjKTWijeJJqGnhxpYK\n",
      "Downloading 4fDodwdZ1LBDL2I2WCnUMY\n",
      "Downloading 5d6FOGCa0EDqCJSpccEh8s\n",
      "Downloading 6cUCckpdlqHJ5Ascf2uH2A\n",
      "Downloading 1dFVnX4mJTnWubAPE8S3OR\n",
      "Downloading 3MRQn2RYo2VLYMoStnLRxu\n",
      "Downloading 7uf3aFC1msj0t5cYImgOWy\n",
      "Downloading 6mhQ7eOHaV0ur2ooKTavW1\n",
      "Downloading 6kg7bfwsTKzRqnBGGv4VqR\n",
      "Downloading 5Pl2CXDkaP6WEnJ0bpKGOm\n",
      "Downloading 3pzBD8BVdrv7VJ7glRYshl\n",
      "Downloading 2Z4aQJh0kesRMookvtfR4y\n",
      "Downloading 5Zf5prtvv7KRQ1J6kNn4C6\n",
      "Downloading 76wXMaJVSr0nSsKsSdwAiu\n",
      "Downloading 0cvmA0xg8FkzKvBnO8987X\n",
      "Downloading 1AIlY4mVcOY34SNA4CTVbC\n",
      "Downloading 0pJLfGfCgmr0z9WRjwY7A3\n",
      "Downloading 4um0dlscaZs2xkSbH72pP2\n",
      "Downloading 5EDtmgwR1lDmDGLZraNpJg\n",
      "Downloading 66mmgHMVELzJ95xzfeFL2r\n",
      "Downloading 2jt5TmTYrmdr46cGHrcFjq\n",
      "Downloading 3wnYQrgVJO5Kse4Pq8eyoz\n",
      "Downloading 3ZozFqJJlDBNIm4xqxn2ZD\n",
      "Downloading 3HGnIIdHYIbkowzLk8UHbE\n",
      "Downloading 3J5jotqUAjU479WhAiNkpU\n",
      "Downloading 7A4WmJcWx6KrVRfQ2CP8e7\n",
      "Downloading 3TuMOIzXkhKFDNHyQ7Mo8J\n",
      "Downloading 3z610KBfuClGcA7ywI19w8\n",
      "Downloading 2NYOqKy4VX6dqVtzrv1Cx9\n",
      "Downloading 03kCiUPjdAV9ur9ugm8PQT\n",
      "Downloading 7DhvNzyMM8jJWcfykG3psB\n",
      "Downloading 6JSH36hKFusIabTu1egYO5\n",
      "Downloading 1tf4Bfk8JIKryLpWYRvyiI\n",
      "Downloading 59xdsxc0QGW6TDA3ZuQ9tS\n",
      "Downloading 5YsPrfAtcCzMIc4BHTsxP5\n",
      "Downloading 0ODaBMQ3tbTefbmbMWTwdT\n",
      "Downloading 6zuVzhogxotQnXIxr2wLE5\n",
      "Downloading 4PuAqZlL1tkidkuxfDlLbF\n",
      "Downloading 4MDYIbU6I29Gjiu7JATTIJ\n",
      "Downloading 15npbUjCgwt2lRvyrJvyxw\n",
      "Downloading 5vyONuW3HK0kJQBkrSp25B\n",
      "Downloading 0BQpyaFrb78b9uobWNheqx\n",
      "Downloading 4k3lPl8YTKuY8c1HelVnm3\n",
      "Downloading 69AIpwGNLxr4qS1X5ynx60\n",
      "Downloading 0ysCB1Jg4hli0XlEWlipo7\n",
      "Downloading 0OCY4cY7ZhmFMLR8Zipb51\n",
      "Downloading 7sGULdccMGSggXDq7ZjT3w\n",
      "Downloading 4CkgMiMqZ5JzW9iYXSTMTL\n",
      "Downloading 50fXFVykkwS6Om9eqjTK44\n"
     ]
    }
   ],
   "source": [
    "df.apply(lambda row: download_mp3(row[1], f\"/Users/tanviwagle/Desktop/Genre Detection/python-download/audio_raw/{genre}\", row[0]), axis=1);"
   ]
  },
  {
   "cell_type": "code",
   "execution_count": 98,
   "metadata": {},
   "outputs": [
    {
     "name": "stdout",
     "output_type": "stream",
     "text": [
      "Converting {g}\n",
      "Converting f\n",
      "Converting f\n",
      "Converting f\n",
      "Converting f\n",
      "Converting f\n",
      "Converting f\n",
      "Converting f\n",
      "Converting f\n",
      "Converting f\n",
      "Converting f\n",
      "Converting f\n",
      "Converting f\n",
      "Converting f\n",
      "Converting f\n",
      "Converting f\n",
      "Converting f\n",
      "Converting f\n",
      "Converting f\n",
      "Converting f\n",
      "Converting f\n",
      "Converting f\n",
      "Converting f\n",
      "Converting f\n",
      "Converting f\n",
      "Converting f\n",
      "Converting f\n",
      "Converting f\n",
      "Converting f\n",
      "Converting f\n",
      "Converting f\n",
      "Converting f\n",
      "Converting f\n",
      "Converting f\n",
      "Converting f\n",
      "Converting f\n",
      "Converting f\n",
      "Converting f\n",
      "Converting f\n",
      "Converting f\n",
      "Converting f\n",
      "Converting f\n",
      "Converting f\n",
      "Converting f\n",
      "Converting f\n",
      "Converting f\n",
      "Converting f\n",
      "Converting f\n",
      "Converting f\n",
      "Converting f\n",
      "Converting f\n",
      "Converting f\n",
      "Converting f\n",
      "Converting f\n",
      "Converting f\n",
      "Converting f\n",
      "Converting f\n",
      "Converting f\n",
      "Converting f\n",
      "Converting f\n",
      "Converting f\n",
      "Converting f\n",
      "Converting f\n",
      "Converting f\n",
      "Converting f\n",
      "Converting f\n",
      "Converting f\n",
      "Converting f\n",
      "Converting f\n",
      "Converting f\n",
      "Converting f\n",
      "Converting f\n",
      "Converting f\n",
      "Converting f\n",
      "Converting f\n",
      "Converting f\n",
      "Converting f\n",
      "Converting f\n",
      "Converting f\n",
      "Converting f\n",
      "Converting f\n",
      "Converting f\n",
      "Converting f\n",
      "Converting f\n",
      "Converting f\n",
      "Converting f\n",
      "Converting f\n",
      "Converting f\n",
      "Converting f\n",
      "Converting f\n",
      "Converting f\n",
      "Converting f\n",
      "Converting f\n",
      "Converting f\n",
      "Converting f\n",
      "Converting f\n",
      "Converting f\n",
      "Converting f\n",
      "Converting f\n",
      "Converting f\n",
      "Converting f\n",
      "Converting f\n",
      "Converting f\n",
      "Converting f\n",
      "Converting f\n",
      "Converting f\n",
      "Converting f\n",
      "Converting f\n",
      "Converting f\n",
      "Converting f\n",
      "Converting f\n",
      "Converting f\n",
      "Converting f\n",
      "Converting f\n",
      "Converting f\n",
      "Converting f\n",
      "Converting f\n",
      "Converting f\n",
      "Converting f\n",
      "Converting f\n",
      "Converting f\n",
      "Converting f\n",
      "Converting f\n",
      "Converting f\n",
      "Converting f\n",
      "Converting f\n",
      "Converting f\n",
      "Converting f\n",
      "Converting f\n",
      "Converting f\n",
      "Converting f\n",
      "Converting f\n",
      "Converting f\n",
      "Converting f\n",
      "Converting f\n",
      "Converting f\n",
      "Converting f\n",
      "Converting f\n",
      "Converting f\n",
      "Converting f\n",
      "Converting f\n",
      "Converting {g}\n",
      "Converting {g}\n",
      "Converting {g}\n"
     ]
    }
   ],
   "source": [
    "from pydub import AudioSegment\n",
    "genres = [\"country\", \"pop\", \"rock\", \"classical\"]\n",
    "for g in genres: \n",
    "    print(f\"Converting {g}\")\n",
    "    path = f\"/Users/tanviwagle/Desktop/Genre Detection/python-download/audio_raw/{g}/\"\n",
    "    files = os.listdir(path) \n",
    "    for f in files: \n",
    "        print(f\"Converting {f}\")\n",
    "        sound = AudioSegment.from_mp3(path+f)\n",
    "        name = f.split(\".\")[0]\n",
    "        sound.export(f\"/Users/tanviwagle/Desktop/Genre Detection/python-download/audio_wav/{g}/{name}.wav\", format=\"wav\")"
   ]
  },
  {
   "cell_type": "code",
   "execution_count": 101,
   "metadata": {},
   "outputs": [
    {
     "name": "stdout",
     "output_type": "stream",
     "text": [
      "Loading country\n",
      "[-0.3285763  -0.55778325 -0.29411355 ... -0.18000457 -0.10721508\n",
      "  0.10498968]\n",
      "(661501,)\n"
     ]
    }
   ],
   "source": [
    "genres = [\"country\", \"pop\", \"rock\", \"classical\"]\n",
    "for g in genres: \n",
    "    print(f\"Loading {g}\")\n",
    "    path = f\"/Users/tanviwagle/Desktop/Genre Detection/python-download/audio_wav/{g}/\"\n",
    "    files = os.listdir(path) \n",
    "    for f in files: \n",
    "        audio, sr = librosa.load(path+f)\n",
    "        print(audio)\n",
    "        print(y.shape)\n",
    "        break\n",
    "    break"
   ]
  },
  {
   "cell_type": "code",
   "execution_count": 97,
   "metadata": {},
   "outputs": [],
   "source": [
    "path = \"/Users/tanviwagle/Desktop/Genre Detection/python-download/audio_wav/country/5CfxpBCYwfB17MMgARumHl.wav\"\n",
    "#files = os.listdir(path) \n",
    "y, sr = librosa.load(path)"
   ]
  },
  {
   "cell_type": "markdown",
   "metadata": {},
   "source": [
    "## Pre-Process Data"
   ]
  },
  {
   "cell_type": "code",
   "execution_count": 145,
   "metadata": {},
   "outputs": [],
   "source": [
    "from sklearn import preprocessing\n",
    "\n",
    "le = preprocessing.LabelEncoder()\n",
    "le.fit(df['genre'])\n",
    "y_true = df['genre']\n",
    "y = le.transform(df[\"genre\"])\n",
    "Y = le.transform(df[\"genre\"])\n",
    "X = df.iloc[:, 0:11] \n",
    "\n",
    "scaled = preprocessing.MinMaxScaler().fit_transform(X)\n",
    "X = pd.DataFrame(scaled, columns = X.columns)"
   ]
  },
  {
   "cell_type": "markdown",
   "metadata": {},
   "source": [
    "## Split into Training and Testing "
   ]
  },
  {
   "cell_type": "code",
   "execution_count": 128,
   "metadata": {},
   "outputs": [
    {
     "name": "stdout",
     "output_type": "stream",
     "text": [
      "The size of training data is: 3465\n",
      "The size of testing data is: 1155\n"
     ]
    }
   ],
   "source": [
    "from sklearn.model_selection import train_test_split\n",
    "train_x, test_x, train_y, test_y = train_test_split(X, y)\n",
    "print(f\"The size of training data is: {train_x.size}\")\n",
    "print(f\"The size of testing data is: {test_x.size}\")"
   ]
  },
  {
   "cell_type": "markdown",
   "metadata": {},
   "source": [
    "## Try Machine Learning Algorithms"
   ]
  },
  {
   "cell_type": "code",
   "execution_count": 129,
   "metadata": {},
   "outputs": [],
   "source": [
    "from sklearn.model_selection import KFold\n",
    "kfold = KFold(n_splits=5, shuffle=True, random_state=10)"
   ]
  },
  {
   "cell_type": "code",
   "execution_count": 130,
   "metadata": {},
   "outputs": [],
   "source": [
    "from sklearn.model_selection import GridSearchCV\n",
    "\n",
    "def hyperparameter_search(parameters, classifier, train_x, train_y):\n",
    "    grid = GridSearchCV(estimator=classifier, param_grid=parameters, cv=kfold, scoring='accuracy')\n",
    "    grid.fit(train_x, train_y)\n",
    "    return grid"
   ]
  },
  {
   "cell_type": "code",
   "execution_count": 131,
   "metadata": {},
   "outputs": [
    {
     "name": "stdout",
     "output_type": "stream",
     "text": [
      "0.6507936507936508\n",
      "KNeighborsClassifier(n_neighbors=4)\n",
      "{'n_neighbors': 4}\n"
     ]
    }
   ],
   "source": [
    "from sklearn.model_selection import GridSearchCV\n",
    "from sklearn.neighbors import KNeighborsClassifier\n",
    "hp = [{'n_neighbors': [2, 3, 4, 6, 8, 10, 15, 30, 35]}]\n",
    "\n",
    "knn = hyperparameter_search(hp, KNeighborsClassifier(), train_x, train_y)\n",
    "print(knn.best_score_)\n",
    "print(knn.best_estimator_)\n",
    "print(knn.best_params_)"
   ]
  },
  {
   "cell_type": "code",
   "execution_count": 132,
   "metadata": {},
   "outputs": [
    {
     "name": "stdout",
     "output_type": "stream",
     "text": [
      "0.7047619047619047\n",
      "DecisionTreeClassifier(max_depth=5)\n",
      "{'max_depth': 5}\n"
     ]
    }
   ],
   "source": [
    "from sklearn import tree\n",
    "from sklearn.tree import DecisionTreeClassifier\n",
    "\n",
    "hp = [{'max_depth': [None, 5, 10, 15, 20]}]\n",
    "dt = hyperparameter_search(hp, DecisionTreeClassifier(), train_x, train_y)\n",
    "\n",
    "print(dt.best_score_)\n",
    "print(dt.best_estimator_)\n",
    "print(dt.best_params_)"
   ]
  },
  {
   "cell_type": "code",
   "execution_count": 133,
   "metadata": {},
   "outputs": [
    {
     "name": "stdout",
     "output_type": "stream",
     "text": [
      "0.7777777777777777\n",
      "RandomForestClassifier()\n",
      "{'max_depth': None, 'n_estimators': 100}\n"
     ]
    }
   ],
   "source": [
    "from sklearn.ensemble import RandomForestClassifier\n",
    "\n",
    "hp = [{'n_estimators': [10,100, 1000], 'max_depth': [None]}]\n",
    "rfc = hyperparameter_search(hp, RandomForestClassifier(), train_x, train_y)\n",
    "\n",
    "print(rfc.best_score_)\n",
    "print(rfc.best_estimator_)\n",
    "print(rfc.best_params_)"
   ]
  },
  {
   "cell_type": "code",
   "execution_count": 134,
   "metadata": {},
   "outputs": [
    {
     "name": "stdout",
     "output_type": "stream",
     "text": [
      "0.7428571428571428\n",
      "SVC(decision_function_shape='ovo', kernel='poly')\n",
      "{'decision_function_shape': 'ovo', 'kernel': 'poly'}\n"
     ]
    }
   ],
   "source": [
    "from sklearn.svm import SVC\n",
    "\n",
    "hp = [{'kernel' : ['linear', 'poly', 'rbf', 'sigmoid'], 'decision_function_shape': ['ovo']}]\n",
    "svc = hyperparameter_search(hp, SVC(), train_x, train_y)\n",
    "\n",
    "print(svc.best_score_)\n",
    "print(svc.best_estimator_)\n",
    "print(svc.best_params_)"
   ]
  },
  {
   "cell_type": "code",
   "execution_count": 135,
   "metadata": {},
   "outputs": [
    {
     "name": "stdout",
     "output_type": "stream",
     "text": [
      "0.6825396825396826\n",
      "LogisticRegression(solver='liblinear')\n",
      "{'solver': 'liblinear'}\n"
     ]
    }
   ],
   "source": [
    "from sklearn.linear_model import LogisticRegression\n",
    "\n",
    "hp = [{'solver' : ['liblinear']}]\n",
    "logreg = hyperparameter_search(hp, LogisticRegression(), train_x, train_y)\n",
    "\n",
    "print(logreg.best_score_)\n",
    "print(logreg.best_estimator_)\n",
    "print(logreg.best_params_)"
   ]
  },
  {
   "cell_type": "code",
   "execution_count": 40,
   "metadata": {},
   "outputs": [
    {
     "name": "stdout",
     "output_type": "stream",
     "text": [
      "0.72\n",
      "MLPClassifier(alpha=1e-05, hidden_layer_sizes=(500, 10), max_iter=10000,\n",
      "              random_state=1)\n",
      "{'alpha': 1e-05, 'hidden_layer_sizes': (500, 10), 'max_iter': 10000, 'random_state': 1}\n"
     ]
    }
   ],
   "source": [
    "from sklearn.neural_network import MLPClassifier\n",
    "\n",
    "hp = [{'alpha' : [1e-5, 1e-8], 'random_state': [1], 'hidden_layer_sizes': [(500,10)], 'max_iter': [10000]}]\n",
    "nn = hyperparameter_search(hp, MLPClassifier(), train_x, train_y)\n",
    "\n",
    "print(nn.best_score_)\n",
    "print(nn.best_estimator_)\n",
    "print(nn.best_params_)"
   ]
  },
  {
   "cell_type": "markdown",
   "metadata": {},
   "source": [
    "## ANALYSIS"
   ]
  },
  {
   "cell_type": "code",
   "execution_count": 136,
   "metadata": {},
   "outputs": [
    {
     "data": {
      "image/png": "[encoded data removed]",
      "text/plain": [
       "<Figure size 1152x648 with 2 Axes>"
      ]
     },
     "metadata": {
      "needs_background": "light"
     },
     "output_type": "display_data"
    }
   ],
   "source": [
    "from sklearn.metrics import confusion_matrix\n",
    "import seaborn as sns\n",
    "preds = rfc.predict(test_x)\n",
    "confusion_matr = confusion_matrix(le.inverse_transform(test_y), le.inverse_transform(preds))\n",
    "plt.figure(figsize = (16, 9))\n",
    "sns.heatmap(confusion_matr, cmap=\"Greens\", annot=True, \n",
    "            xticklabels = le.classes_,\n",
    "           yticklabels= le.classes_);"
   ]
  },
  {
   "cell_type": "code",
   "execution_count": 137,
   "metadata": {},
   "outputs": [
    {
     "data": {
      "text/html": [
       "\n",
       "    <style>\n",
       "    table.eli5-weights tr:hover {\n",
       "        filter: brightness(85%);\n",
       "    }\n",
       "</style>\n",
       "\n",
       "\n",
       "\n",
       "    \n",
       "\n",
       "    \n",
       "\n",
       "    \n",
       "\n",
       "    \n",
       "\n",
       "    \n",
       "\n",
       "    \n",
       "\n",
       "\n",
       "    \n",
       "\n",
       "    \n",
       "\n",
       "    \n",
       "\n",
       "    \n",
       "\n",
       "    \n",
       "\n",
       "    \n",
       "\n",
       "\n",
       "    \n",
       "\n",
       "    \n",
       "\n",
       "    \n",
       "\n",
       "    \n",
       "\n",
       "    \n",
       "        <table class=\"eli5-weights eli5-feature-importances\" style=\"border-collapse: collapse; border: none; margin-top: 0em; table-layout: auto;\">\n",
       "    <thead>\n",
       "    <tr style=\"border: none;\">\n",
       "        <th style=\"padding: 0 1em 0 0.5em; text-align: right; border: none;\">Weight</th>\n",
       "        <th style=\"padding: 0 0.5em 0 0.5em; text-align: left; border: none;\">Feature</th>\n",
       "    </tr>\n",
       "    </thead>\n",
       "    <tbody>\n",
       "    \n",
       "        <tr style=\"background-color: hsl(120, 100.00%, 80.00%); border: none;\">\n",
       "            <td style=\"padding: 0 1em 0 0.5em; text-align: right; border: none;\">\n",
       "                0.1257\n",
       "                \n",
       "                    &plusmn; 0.0441\n",
       "                \n",
       "            </td>\n",
       "            <td style=\"padding: 0 0.5em 0 0.5em; text-align: left; border: none;\">\n",
       "                instrumentalness\n",
       "            </td>\n",
       "        </tr>\n",
       "    \n",
       "        <tr style=\"background-color: hsl(120, 100.00%, 83.53%); border: none;\">\n",
       "            <td style=\"padding: 0 1em 0 0.5em; text-align: right; border: none;\">\n",
       "                0.0952\n",
       "                \n",
       "                    &plusmn; 0.0400\n",
       "                \n",
       "            </td>\n",
       "            <td style=\"padding: 0 0.5em 0 0.5em; text-align: left; border: none;\">\n",
       "                loudness\n",
       "            </td>\n",
       "        </tr>\n",
       "    \n",
       "        <tr style=\"background-color: hsl(120, 100.00%, 86.16%); border: none;\">\n",
       "            <td style=\"padding: 0 1em 0 0.5em; text-align: right; border: none;\">\n",
       "                0.0743\n",
       "                \n",
       "                    &plusmn; 0.0473\n",
       "                \n",
       "            </td>\n",
       "            <td style=\"padding: 0 0.5em 0 0.5em; text-align: left; border: none;\">\n",
       "                danceability\n",
       "            </td>\n",
       "        </tr>\n",
       "    \n",
       "        <tr style=\"background-color: hsl(120, 100.00%, 92.91%); border: none;\">\n",
       "            <td style=\"padding: 0 1em 0 0.5em; text-align: right; border: none;\">\n",
       "                0.0286\n",
       "                \n",
       "                    &plusmn; 0.0781\n",
       "                \n",
       "            </td>\n",
       "            <td style=\"padding: 0 0.5em 0 0.5em; text-align: left; border: none;\">\n",
       "                acousticness\n",
       "            </td>\n",
       "        </tr>\n",
       "    \n",
       "        <tr style=\"background-color: hsl(120, 100.00%, 94.29%); border: none;\">\n",
       "            <td style=\"padding: 0 1em 0 0.5em; text-align: right; border: none;\">\n",
       "                0.0210\n",
       "                \n",
       "                    &plusmn; 0.0143\n",
       "                \n",
       "            </td>\n",
       "            <td style=\"padding: 0 0.5em 0 0.5em; text-align: left; border: none;\">\n",
       "                valence\n",
       "            </td>\n",
       "        </tr>\n",
       "    \n",
       "        <tr style=\"background-color: hsl(120, 100.00%, 94.66%); border: none;\">\n",
       "            <td style=\"padding: 0 1em 0 0.5em; text-align: right; border: none;\">\n",
       "                0.0190\n",
       "                \n",
       "                    &plusmn; 0.0361\n",
       "                \n",
       "            </td>\n",
       "            <td style=\"padding: 0 0.5em 0 0.5em; text-align: left; border: none;\">\n",
       "                speechiness\n",
       "            </td>\n",
       "        </tr>\n",
       "    \n",
       "        <tr style=\"background-color: hsl(120, 100.00%, 95.04%); border: none;\">\n",
       "            <td style=\"padding: 0 1em 0 0.5em; text-align: right; border: none;\">\n",
       "                0.0171\n",
       "                \n",
       "                    &plusmn; 0.0473\n",
       "                \n",
       "            </td>\n",
       "            <td style=\"padding: 0 0.5em 0 0.5em; text-align: left; border: none;\">\n",
       "                energy\n",
       "            </td>\n",
       "        </tr>\n",
       "    \n",
       "        <tr style=\"background-color: hsl(120, 100.00%, 97.70%); border: none;\">\n",
       "            <td style=\"padding: 0 1em 0 0.5em; text-align: right; border: none;\">\n",
       "                0.0057\n",
       "                \n",
       "                    &plusmn; 0.0194\n",
       "                \n",
       "            </td>\n",
       "            <td style=\"padding: 0 0.5em 0 0.5em; text-align: left; border: none;\">\n",
       "                tempo\n",
       "            </td>\n",
       "        </tr>\n",
       "    \n",
       "        <tr style=\"background-color: hsl(120, 100.00%, 97.70%); border: none;\">\n",
       "            <td style=\"padding: 0 1em 0 0.5em; text-align: right; border: none;\">\n",
       "                0.0057\n",
       "                \n",
       "                    &plusmn; 0.0392\n",
       "                \n",
       "            </td>\n",
       "            <td style=\"padding: 0 0.5em 0 0.5em; text-align: left; border: none;\">\n",
       "                mode\n",
       "            </td>\n",
       "        </tr>\n",
       "    \n",
       "        <tr style=\"background-color: hsl(0, 100.00%, 98.94%); border: none;\">\n",
       "            <td style=\"padding: 0 1em 0 0.5em; text-align: right; border: none;\">\n",
       "                -0.0019\n",
       "                \n",
       "                    &plusmn; 0.0143\n",
       "                \n",
       "            </td>\n",
       "            <td style=\"padding: 0 0.5em 0 0.5em; text-align: left; border: none;\">\n",
       "                key\n",
       "            </td>\n",
       "        </tr>\n",
       "    \n",
       "        <tr style=\"background-color: hsl(0, 100.00%, 95.84%); border: none;\">\n",
       "            <td style=\"padding: 0 1em 0 0.5em; text-align: right; border: none;\">\n",
       "                -0.0133\n",
       "                \n",
       "                    &plusmn; 0.0152\n",
       "                \n",
       "            </td>\n",
       "            <td style=\"padding: 0 0.5em 0 0.5em; text-align: left; border: none;\">\n",
       "                liveness\n",
       "            </td>\n",
       "        </tr>\n",
       "    \n",
       "    \n",
       "    </tbody>\n",
       "</table>\n",
       "    \n",
       "\n",
       "    \n",
       "\n",
       "\n",
       "    \n",
       "\n",
       "    \n",
       "\n",
       "    \n",
       "\n",
       "    \n",
       "\n",
       "    \n",
       "\n",
       "    \n",
       "\n",
       "\n",
       "\n"
      ],
      "text/plain": [
       "<IPython.core.display.HTML object>"
      ]
     },
     "execution_count": 137,
     "metadata": {},
     "output_type": "execute_result"
    }
   ],
   "source": [
    "import eli5\n",
    "from eli5.sklearn import PermutationImportance\n",
    "\n",
    "perm = PermutationImportance(estimator=rfc, random_state=1)\n",
    "perm.fit(test_x, test_y)\n",
    "\n",
    "eli5.show_weights(estimator=perm, feature_names = test_x.columns.tolist())"
   ]
  },
  {
   "cell_type": "markdown",
   "metadata": {},
   "source": [
    "## UNSUPERVISED LEARNING"
   ]
  },
  {
   "cell_type": "code",
   "execution_count": 138,
   "metadata": {},
   "outputs": [
    {
     "data": {
      "image/png": "[encoded data removed]",
      "text/plain": [
       "<Figure size 432x288 with 1 Axes>"
      ]
     },
     "metadata": {
      "needs_background": "light"
     },
     "output_type": "display_data"
    }
   ],
   "source": [
    "from sklearn.cluster import KMeans\n",
    "wcss=[]\n",
    "\n",
    "for i in range(1,20): \n",
    "    kmeans = KMeans(n_clusters=i, init ='k-means++', max_iter=300,  n_init=10,random_state=0 )\n",
    "    kmeans.fit(train_x)\n",
    "    wcss.append(kmeans.inertia_)\n",
    "\n",
    "plt.plot(range(1,20),wcss)\n",
    "plt.title('The Elbow Method Graph')\n",
    "plt.xlabel('Number of clusters')\n",
    "plt.ylabel('WCSS')\n",
    "plt.show()"
   ]
  },
  {
   "cell_type": "code",
   "execution_count": 144,
   "metadata": {},
   "outputs": [
    {
     "data": {
      "text/plain": [
       "array([2, 2, 2, 1, 1, 2, 2, 2, 1, 1, 2, 1, 1, 2, 1, 2, 1, 1, 1, 1, 2, 1,\n",
       "       1, 2, 1, 2, 1, 2, 1, 1, 2, 1, 1, 2, 1, 1, 1, 1, 1, 2, 1, 2, 2, 2,\n",
       "       1, 2, 1, 1, 2, 2, 2, 1, 1, 1, 2, 2, 2, 1, 1, 2, 1, 2, 1, 1, 2, 1,\n",
       "       1, 1, 1, 1, 1, 1, 1, 2, 2, 2, 2, 2, 2, 1, 1, 1, 1, 2, 2, 1, 1, 1,\n",
       "       2, 1, 1, 2, 2, 2, 1, 1, 1, 1, 2, 1, 1, 2, 1, 1, 2, 1, 1, 1, 1, 1,\n",
       "       1, 1, 1, 2, 1, 1, 2, 1, 1, 1, 2, 2, 1, 2, 1, 1, 1, 2, 2, 1, 1, 2,\n",
       "       1, 1, 1, 2, 1, 2, 2, 1, 1, 1, 1, 2, 1, 1, 1, 1, 2, 1, 1, 2, 2, 1,\n",
       "       2, 2, 1, 1, 1, 2, 1, 1, 1, 2, 1, 1, 2, 1, 2, 1, 2, 2, 1, 1, 2, 1,\n",
       "       1, 2, 2, 1, 1, 2, 1, 1, 1, 2, 1, 1, 1, 1, 1, 1, 1, 1, 1, 1, 2, 1,\n",
       "       2, 2, 1, 1, 1, 1, 1, 1, 2, 1, 1, 1, 3, 3, 3, 3, 0, 3, 0, 3, 3, 3,\n",
       "       3, 3, 0, 3, 3, 0, 0, 3, 3, 3, 3, 3, 3, 3, 1, 0, 0, 3, 0, 3, 3, 3,\n",
       "       3, 0, 3, 0, 3, 0, 3, 3, 3, 3, 0, 3, 3, 3, 3, 3, 3, 0, 3, 0, 3, 0,\n",
       "       0, 3, 3, 0, 0, 3, 0, 3, 0, 3, 0, 3, 3, 3, 3, 3, 3, 0, 3, 3, 3, 3,\n",
       "       0, 3, 3, 3, 3, 0, 0, 3, 3, 3, 0, 3, 3, 3, 3, 0, 0, 3, 1, 3, 0, 0,\n",
       "       3, 3, 0, 3, 3, 3, 3, 1, 1, 1, 1, 1, 1, 1, 1, 1, 1, 1, 1, 1, 2, 1,\n",
       "       1, 1, 1, 1, 1, 1, 2, 1, 1, 1, 1, 1, 1, 1, 1, 1, 1, 1, 1, 1, 1, 1,\n",
       "       1, 2, 1, 1, 1, 1, 1, 1, 1, 1, 1, 1, 1, 1, 1, 1, 1, 1, 1, 1, 1, 1,\n",
       "       1, 1, 1, 1, 1, 1, 1, 1, 1, 1, 2, 1, 1, 1, 1, 1, 1, 1, 1, 1, 1, 1,\n",
       "       1, 1, 1, 1, 1, 1, 1, 1, 1, 1, 1, 1, 1, 1, 1, 1, 1, 1, 1, 2, 2, 1,\n",
       "       1, 1], dtype=int32)"
      ]
     },
     "execution_count": 144,
     "metadata": {},
     "output_type": "execute_result"
    }
   ],
   "source": [
    "from sklearn.cluster import KMeans\n",
    "kmeans = KMeans(n_clusters=4, random_state=0).fit_predict(X)\n",
    "kmeans"
   ]
  },
  {
   "cell_type": "code",
   "execution_count": 146,
   "metadata": {},
   "outputs": [
    {
     "name": "stdout",
     "output_type": "stream",
     "text": [
      "[[1.0, 0.0, 0.0, 0.0], [0.00851063829787234, 0.42127659574468085, 0.25957446808510637, 0.31063829787234043], [0.0, 0.07317073170731707, 0.5365853658536586, 0.3902439024390244], [1.0, 0.0, 0.0, 0.0]]\n"
     ]
    },
    {
     "data": {
      "image/png": "[encoded data removed]",
      "text/plain": [
       "<Figure size 1152x648 with 2 Axes>"
      ]
     },
     "metadata": {
      "needs_background": "light"
     },
     "output_type": "display_data"
    }
   ],
   "source": [
    "c_matrix = []\n",
    "for x in range(4):\n",
    "    true_label = Y[kmeans == x]\n",
    "    arr = []\n",
    "    for y in range(4):\n",
    "        correct_label = true_label[np.where(true_label == y)]\n",
    "        arr.append(len(correct_label)/len(true_label))\n",
    "    c_matrix.append(arr)\n",
    "\n",
    "print(c_matrix)\n",
    "plt.figure(figsize = (16, 9))\n",
    "sns.heatmap(c_matrix, cmap=\"Greens\", annot=True, \n",
    "            xticklabels = le.classes_,\n",
    "           yticklabels= [y for y in range(4)]);"
   ]
  },
  {
   "cell_type": "code",
   "execution_count": null,
   "metadata": {},
   "outputs": [],
   "source": []
  }
 ],
 "metadata": {
  "kernelspec": {
   "display_name": "Python 3",
   "language": "python",
   "name": "python3"
  },
  "language_info": {
   "codemirror_mode": {
    "name": "ipython",
    "version": 3
   },
   "file_extension": ".py",
   "mimetype": "text/x-python",
   "name": "python",
   "nbconvert_exporter": "python",
   "pygments_lexer": "ipython3",
   "version": "3.8.3"
  }
 },
 "nbformat": 4,
 "nbformat_minor": 4
}
